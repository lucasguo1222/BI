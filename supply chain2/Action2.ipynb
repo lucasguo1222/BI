{
 "cells": [
  {
   "cell_type": "markdown",
   "metadata": {},
   "source": [
    "# Action2"
   ]
  },
  {
   "cell_type": "code",
   "execution_count": 1,
   "metadata": {},
   "outputs": [],
   "source": [
    "from pprint import pprint"
   ]
  },
  {
   "cell_type": "code",
   "execution_count": 2,
   "metadata": {},
   "outputs": [],
   "source": [
    "import pulp"
   ]
  },
  {
   "cell_type": "code",
   "execution_count": 3,
   "metadata": {},
   "outputs": [],
   "source": [
    "import numpy as np"
   ]
  },
  {
   "cell_type": "markdown",
   "metadata": {},
   "source": [
    "##### 设置单产收益：4种农作物，6个种植地，每一行代表单个农作物分别在六个种植地的收益"
   ]
  },
  {
   "cell_type": "code",
   "execution_count": 4,
   "metadata": {},
   "outputs": [],
   "source": [
    "costs = np.array([[500, 550, 630, 1000, 800, 700],\n",
    "                  [800, 700, 600, 950, 900, 930],\n",
    "                  [1000, 960, 840, 650, 600, 700],\n",
    "                  [1200, 1040, 980, 860, 880, 780]])"
   ]
  },
  {
   "cell_type": "markdown",
   "metadata": {},
   "source": [
    "##### 计划播种面积，每一列代表每个农作物的计划播种面积"
   ]
  },
  {
   "cell_type": "code",
   "execution_count": 5,
   "metadata": {},
   "outputs": [],
   "source": [
    "max_plan_area = [76, 88, 96, 40]"
   ]
  },
  {
   "cell_type": "markdown",
   "metadata": {},
   "source": [
    "##### 地块面积，每一列代表每块地的最大面积，一共300亩"
   ]
  },
  {
   "cell_type": "code",
   "execution_count": 6,
   "metadata": {},
   "outputs": [],
   "source": [
    "max_area = [42, 56, 44, 39, 60, 59]"
   ]
  },
  {
   "cell_type": "markdown",
   "metadata": {},
   "source": [
    "##### 定义规划方程"
   ]
  },
  {
   "cell_type": "code",
   "execution_count": 11,
   "metadata": {},
   "outputs": [],
   "source": [
    "def farm_program(costs, x_max, y_max):\n",
    "    row = len(costs)\n",
    "    col = len(costs[0])\n",
    "    print(f'row:{row} col:{col}')\n",
    "    \n",
    "    # 定义初始问题，这是一个线性规划求最大值的问题\n",
    "    prob = pulp.LpProblem('Farming', sense=pulp.LpMaximize)\n",
    "    \n",
    "    # 定义决策变量，赋予变量种植地的收益，并且是整数类型\n",
    "    var = [[pulp.LpVariable(f'x{i}{j}', lowBound=0, cat=pulp.LpInteger) for j in range(col)] for i in range(row)]\n",
    "    \n",
    "    # 递归展开列表\n",
    "    flatten = lambda x: [y for l in x for y in flatten(l)] if type(x) is list else [x]\n",
    "    print('var=', var)\n",
    "    print('flatten=', flatten)\n",
    "    print('costs.flatten()', costs.flatten())\n",
    "    \n",
    "    # 定义目标函数 （单价* {ij}运量）\n",
    "    prob += pulp.lpDot(flatten(var), costs.flatten())\n",
    "    \n",
    "    # 定义约束条件\n",
    "    for i in range(row):\n",
    "        #对于每个农作物来说，种植面积不能超过它的计划种植面积\n",
    "        prob += pulp.lpSum(var[i]) <= x_max[i]\n",
    "        \n",
    "    for j in range(col):\n",
    "        #对于所有农作物在某块地上的种植不能超过那块地的最大值\n",
    "        prob += pulp.lpSum([var[i][j] for i in range(row)]) <= y_max[j]\n",
    "    \n",
    "    #求解这个规划方程\n",
    "    prob.solve()\n",
    "    \n",
    "    #得到最终的结果\n",
    "    result = {'objective':pulp.value(prob.objective), \\\n",
    "              'var': [[pulp.value(var[i][j]) for j in range(col)] for i in range(row)]}\n",
    "    return result\n"
   ]
  },
  {
   "cell_type": "markdown",
   "metadata": {},
   "source": [
    "##### 使用上面定义的线性规划方程求解"
   ]
  },
  {
   "cell_type": "code",
   "execution_count": 12,
   "metadata": {},
   "outputs": [
    {
     "name": "stdout",
     "output_type": "stream",
     "text": [
      "row:4 col:6\n",
      "var= [[x00, x01, x02, x03, x04, x05], [x10, x11, x12, x13, x14, x15], [x20, x21, x22, x23, x24, x25], [x30, x31, x32, x33, x34, x35]]\n",
      "flatten= <function farm_program.<locals>.<lambda> at 0x000001C928662A60>\n",
      "costs.flatten() [ 500  550  630 1000  800  700  800  700  600  950  900  930 1000  960\n",
      "  840  650  600  700 1200 1040  980  860  880  780]\n"
     ]
    }
   ],
   "source": [
    "result = farm_program(costs, max_plan_area, max_area)"
   ]
  },
  {
   "cell_type": "code",
   "execution_count": 9,
   "metadata": {},
   "outputs": [
    {
     "name": "stdout",
     "output_type": "stream",
     "text": [
      "最大的收益为284230.0\n"
     ]
    }
   ],
   "source": [
    "# 输出结果\n",
    "print(f'最大的收益为{result[\"objective\"]}')"
   ]
  },
  {
   "cell_type": "code",
   "execution_count": 10,
   "metadata": {},
   "outputs": [
    {
     "name": "stdout",
     "output_type": "stream",
     "text": [
      "每个农作物在六块地上的种植面积为：\n",
      "[[0.0, 0.0, 6.0, 39.0, 31.0, 0.0],\n",
      " [0.0, 0.0, 0.0, 0.0, 29.0, 59.0],\n",
      " [2.0, 56.0, 38.0, 0.0, 0.0, 0.0],\n",
      " [40.0, 0.0, 0.0, 0.0, 0.0, 0.0]]\n"
     ]
    }
   ],
   "source": [
    "print('每个农作物在六块地上的种植面积为：')\n",
    "pprint(result['var'])"
   ]
  },
  {
   "cell_type": "code",
   "execution_count": null,
   "metadata": {},
   "outputs": [],
   "source": []
  }
 ],
 "metadata": {
  "kernelspec": {
   "display_name": "Python 3",
   "language": "python",
   "name": "python3"
  },
  "language_info": {
   "codemirror_mode": {
    "name": "ipython",
    "version": 3
   },
   "file_extension": ".py",
   "mimetype": "text/x-python",
   "name": "python",
   "nbconvert_exporter": "python",
   "pygments_lexer": "ipython3",
   "version": "3.8.3"
  }
 },
 "nbformat": 4,
 "nbformat_minor": 4
}
