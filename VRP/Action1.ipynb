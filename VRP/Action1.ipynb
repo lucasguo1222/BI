{
 "cells": [
  {
   "cell_type": "code",
   "execution_count": 1,
   "metadata": {
    "colab": {
     "base_uri": "https://localhost:8080/"
    },
    "executionInfo": {
     "elapsed": 3605,
     "status": "ok",
     "timestamp": 1606056100252,
     "user": {
      "displayName": "Xiang Guo",
      "photoUrl": "",
      "userId": "05247754681499252594"
     },
     "user_tz": -480
    },
    "id": "znrGwLwfJG0U",
    "outputId": "9c09b198-8257-4406-f66d-c4f306508dfb"
   },
   "outputs": [
    {
     "name": "stdout",
     "output_type": "stream",
     "text": [
      "Requirement already satisfied: ortools in /usr/local/lib/python3.6/dist-packages (8.0.8283)\n",
      "Requirement already satisfied: six>=1.10 in /usr/local/lib/python3.6/dist-packages (from ortools) (1.15.0)\n",
      "Requirement already satisfied: protobuf>=3.13.0 in /usr/local/lib/python3.6/dist-packages (from ortools) (3.14.0)\n"
     ]
    }
   ],
   "source": [
    "%pip install ortools"
   ]
  },
  {
   "cell_type": "markdown",
   "metadata": {
    "id": "FFRLw20WMQgU"
   },
   "source": [
    "使用colab，因为本地在导入ortools包时出现了问题"
   ]
  },
  {
   "cell_type": "code",
   "execution_count": 2,
   "metadata": {
    "executionInfo": {
     "elapsed": 3600,
     "status": "ok",
     "timestamp": 1606056100254,
     "user": {
      "displayName": "Xiang Guo",
      "photoUrl": "",
      "userId": "05247754681499252594"
     },
     "user_tz": -480
    },
    "id": "rHxTuAOQKbU8"
   },
   "outputs": [],
   "source": [
    "import ortools"
   ]
  },
  {
   "cell_type": "code",
   "execution_count": 3,
   "metadata": {
    "executionInfo": {
     "elapsed": 3599,
     "status": "ok",
     "timestamp": 1606056100256,
     "user": {
      "displayName": "Xiang Guo",
      "photoUrl": "",
      "userId": "05247754681499252594"
     },
     "user_tz": -480
    },
    "id": "TDNkFDutKsZU"
   },
   "outputs": [],
   "source": [
    "from ortools.linear_solver import pywraplp"
   ]
  },
  {
   "cell_type": "markdown",
   "metadata": {
    "id": "I0PPHG0XMIV0"
   },
   "source": [
    "将文件挂载到colab上"
   ]
  },
  {
   "cell_type": "code",
   "execution_count": 4,
   "metadata": {
    "colab": {
     "base_uri": "https://localhost:8080/"
    },
    "executionInfo": {
     "elapsed": 4912,
     "status": "ok",
     "timestamp": 1606056101573,
     "user": {
      "displayName": "Xiang Guo",
      "photoUrl": "",
      "userId": "05247754681499252594"
     },
     "user_tz": -480
    },
    "id": "Fn4-5QfOKu6s",
    "outputId": "ca0ae513-4ac7-4e67-eb2a-4beaadeda322"
   },
   "outputs": [
    {
     "name": "stdout",
     "output_type": "stream",
     "text": [
      "Mounted at /content/drive\n"
     ]
    }
   ],
   "source": [
    "from google.colab import drive\n",
    "drive.mount('/content/drive', force_remount=True)\n"
   ]
  },
  {
   "cell_type": "code",
   "execution_count": 5,
   "metadata": {
    "executionInfo": {
     "elapsed": 4910,
     "status": "ok",
     "timestamp": 1606056101575,
     "user": {
      "displayName": "Xiang Guo",
      "photoUrl": "",
      "userId": "05247754681499252594"
     },
     "user_tz": -480
    },
    "id": "39hxbVoWL9sU"
   },
   "outputs": [],
   "source": [
    "import os\n",
    "os.chdir(\"/content/drive/My Drive/Colab Notebooks/\")"
   ]
  },
  {
   "cell_type": "markdown",
   "metadata": {
    "id": "WkdQCjY1LXeF"
   },
   "source": [
    "导入需要的包"
   ]
  },
  {
   "cell_type": "code",
   "execution_count": 6,
   "metadata": {
    "executionInfo": {
     "elapsed": 4908,
     "status": "ok",
     "timestamp": 1606056101576,
     "user": {
      "displayName": "Xiang Guo",
      "photoUrl": "",
      "userId": "05247754681499252594"
     },
     "user_tz": -480
    },
    "id": "doMMSIguK4cT"
   },
   "outputs": [],
   "source": [
    "import pandas as pd "
   ]
  },
  {
   "cell_type": "markdown",
   "metadata": {
    "id": "WyoFtHECMZKz"
   },
   "source": [
    "将family_id作为index，否则之后在计算preference cost的时候会有index报错"
   ]
  },
  {
   "cell_type": "code",
   "execution_count": 7,
   "metadata": {
    "executionInfo": {
     "elapsed": 4905,
     "status": "ok",
     "timestamp": 1606056101576,
     "user": {
      "displayName": "Xiang Guo",
      "photoUrl": "",
      "userId": "05247754681499252594"
     },
     "user_tz": -480
    },
    "id": "TMErkQJdLVEM"
   },
   "outputs": [],
   "source": [
    "data = pd.read_csv('family_data.csv', index_col = 'family_id')"
   ]
  },
  {
   "cell_type": "code",
   "execution_count": 8,
   "metadata": {
    "colab": {
     "base_uri": "https://localhost:8080/",
     "height": 470
    },
    "executionInfo": {
     "elapsed": 4903,
     "status": "ok",
     "timestamp": 1606056101577,
     "user": {
      "displayName": "Xiang Guo",
      "photoUrl": "",
      "userId": "05247754681499252594"
     },
     "user_tz": -480
    },
    "id": "hHuuCOKhLelU",
    "outputId": "44873f75-e7ec-4900-8809-3e6f57c32a85"
   },
   "outputs": [
    {
     "data": {
      "text/html": [
       "<div>\n",
       "<style scoped>\n",
       "    .dataframe tbody tr th:only-of-type {\n",
       "        vertical-align: middle;\n",
       "    }\n",
       "\n",
       "    .dataframe tbody tr th {\n",
       "        vertical-align: top;\n",
       "    }\n",
       "\n",
       "    .dataframe thead th {\n",
       "        text-align: right;\n",
       "    }\n",
       "</style>\n",
       "<table border=\"1\" class=\"dataframe\">\n",
       "  <thead>\n",
       "    <tr style=\"text-align: right;\">\n",
       "      <th></th>\n",
       "      <th>choice_0</th>\n",
       "      <th>choice_1</th>\n",
       "      <th>choice_2</th>\n",
       "      <th>choice_3</th>\n",
       "      <th>choice_4</th>\n",
       "      <th>choice_5</th>\n",
       "      <th>choice_6</th>\n",
       "      <th>choice_7</th>\n",
       "      <th>choice_8</th>\n",
       "      <th>choice_9</th>\n",
       "      <th>n_people</th>\n",
       "    </tr>\n",
       "    <tr>\n",
       "      <th>family_id</th>\n",
       "      <th></th>\n",
       "      <th></th>\n",
       "      <th></th>\n",
       "      <th></th>\n",
       "      <th></th>\n",
       "      <th></th>\n",
       "      <th></th>\n",
       "      <th></th>\n",
       "      <th></th>\n",
       "      <th></th>\n",
       "      <th></th>\n",
       "    </tr>\n",
       "  </thead>\n",
       "  <tbody>\n",
       "    <tr>\n",
       "      <th>0</th>\n",
       "      <td>52</td>\n",
       "      <td>38</td>\n",
       "      <td>12</td>\n",
       "      <td>82</td>\n",
       "      <td>33</td>\n",
       "      <td>75</td>\n",
       "      <td>64</td>\n",
       "      <td>76</td>\n",
       "      <td>10</td>\n",
       "      <td>28</td>\n",
       "      <td>4</td>\n",
       "    </tr>\n",
       "    <tr>\n",
       "      <th>1</th>\n",
       "      <td>26</td>\n",
       "      <td>4</td>\n",
       "      <td>82</td>\n",
       "      <td>5</td>\n",
       "      <td>11</td>\n",
       "      <td>47</td>\n",
       "      <td>38</td>\n",
       "      <td>6</td>\n",
       "      <td>66</td>\n",
       "      <td>61</td>\n",
       "      <td>4</td>\n",
       "    </tr>\n",
       "    <tr>\n",
       "      <th>2</th>\n",
       "      <td>100</td>\n",
       "      <td>54</td>\n",
       "      <td>25</td>\n",
       "      <td>12</td>\n",
       "      <td>27</td>\n",
       "      <td>82</td>\n",
       "      <td>10</td>\n",
       "      <td>89</td>\n",
       "      <td>80</td>\n",
       "      <td>33</td>\n",
       "      <td>3</td>\n",
       "    </tr>\n",
       "    <tr>\n",
       "      <th>3</th>\n",
       "      <td>2</td>\n",
       "      <td>95</td>\n",
       "      <td>1</td>\n",
       "      <td>96</td>\n",
       "      <td>32</td>\n",
       "      <td>6</td>\n",
       "      <td>40</td>\n",
       "      <td>31</td>\n",
       "      <td>9</td>\n",
       "      <td>59</td>\n",
       "      <td>2</td>\n",
       "    </tr>\n",
       "    <tr>\n",
       "      <th>4</th>\n",
       "      <td>53</td>\n",
       "      <td>1</td>\n",
       "      <td>47</td>\n",
       "      <td>93</td>\n",
       "      <td>26</td>\n",
       "      <td>3</td>\n",
       "      <td>46</td>\n",
       "      <td>16</td>\n",
       "      <td>42</td>\n",
       "      <td>39</td>\n",
       "      <td>4</td>\n",
       "    </tr>\n",
       "    <tr>\n",
       "      <th>...</th>\n",
       "      <td>...</td>\n",
       "      <td>...</td>\n",
       "      <td>...</td>\n",
       "      <td>...</td>\n",
       "      <td>...</td>\n",
       "      <td>...</td>\n",
       "      <td>...</td>\n",
       "      <td>...</td>\n",
       "      <td>...</td>\n",
       "      <td>...</td>\n",
       "      <td>...</td>\n",
       "    </tr>\n",
       "    <tr>\n",
       "      <th>4995</th>\n",
       "      <td>16</td>\n",
       "      <td>1</td>\n",
       "      <td>66</td>\n",
       "      <td>33</td>\n",
       "      <td>18</td>\n",
       "      <td>70</td>\n",
       "      <td>56</td>\n",
       "      <td>46</td>\n",
       "      <td>86</td>\n",
       "      <td>60</td>\n",
       "      <td>4</td>\n",
       "    </tr>\n",
       "    <tr>\n",
       "      <th>4996</th>\n",
       "      <td>88</td>\n",
       "      <td>66</td>\n",
       "      <td>20</td>\n",
       "      <td>17</td>\n",
       "      <td>26</td>\n",
       "      <td>54</td>\n",
       "      <td>81</td>\n",
       "      <td>91</td>\n",
       "      <td>59</td>\n",
       "      <td>48</td>\n",
       "      <td>2</td>\n",
       "    </tr>\n",
       "    <tr>\n",
       "      <th>4997</th>\n",
       "      <td>32</td>\n",
       "      <td>66</td>\n",
       "      <td>54</td>\n",
       "      <td>17</td>\n",
       "      <td>27</td>\n",
       "      <td>21</td>\n",
       "      <td>74</td>\n",
       "      <td>81</td>\n",
       "      <td>3</td>\n",
       "      <td>7</td>\n",
       "      <td>6</td>\n",
       "    </tr>\n",
       "    <tr>\n",
       "      <th>4998</th>\n",
       "      <td>67</td>\n",
       "      <td>92</td>\n",
       "      <td>4</td>\n",
       "      <td>17</td>\n",
       "      <td>53</td>\n",
       "      <td>77</td>\n",
       "      <td>1</td>\n",
       "      <td>12</td>\n",
       "      <td>26</td>\n",
       "      <td>70</td>\n",
       "      <td>5</td>\n",
       "    </tr>\n",
       "    <tr>\n",
       "      <th>4999</th>\n",
       "      <td>13</td>\n",
       "      <td>11</td>\n",
       "      <td>25</td>\n",
       "      <td>80</td>\n",
       "      <td>88</td>\n",
       "      <td>40</td>\n",
       "      <td>96</td>\n",
       "      <td>39</td>\n",
       "      <td>18</td>\n",
       "      <td>47</td>\n",
       "      <td>4</td>\n",
       "    </tr>\n",
       "  </tbody>\n",
       "</table>\n",
       "<p>5000 rows × 11 columns</p>\n",
       "</div>"
      ],
      "text/plain": [
       "           choice_0  choice_1  choice_2  ...  choice_8  choice_9  n_people\n",
       "family_id                                ...                              \n",
       "0                52        38        12  ...        10        28         4\n",
       "1                26         4        82  ...        66        61         4\n",
       "2               100        54        25  ...        80        33         3\n",
       "3                 2        95         1  ...         9        59         2\n",
       "4                53         1        47  ...        42        39         4\n",
       "...             ...       ...       ...  ...       ...       ...       ...\n",
       "4995             16         1        66  ...        86        60         4\n",
       "4996             88        66        20  ...        59        48         2\n",
       "4997             32        66        54  ...         3         7         6\n",
       "4998             67        92         4  ...        26        70         5\n",
       "4999             13        11        25  ...        18        47         4\n",
       "\n",
       "[5000 rows x 11 columns]"
      ]
     },
     "execution_count": 8,
     "metadata": {
      "tags": []
     },
     "output_type": "execute_result"
    }
   ],
   "source": [
    "data"
   ]
  },
  {
   "cell_type": "code",
   "execution_count": 9,
   "metadata": {
    "executionInfo": {
     "elapsed": 4899,
     "status": "ok",
     "timestamp": 1606056101578,
     "user": {
      "displayName": "Xiang Guo",
      "photoUrl": "",
      "userId": "05247754681499252594"
     },
     "user_tz": -480
    },
    "id": "ZL9-FZHpMC-7"
   },
   "outputs": [],
   "source": [
    "#数据预处理"
   ]
  },
  {
   "cell_type": "code",
   "execution_count": 10,
   "metadata": {
    "executionInfo": {
     "elapsed": 4896,
     "status": "ok",
     "timestamp": 1606056101578,
     "user": {
      "displayName": "Xiang Guo",
      "photoUrl": "",
      "userId": "05247754681499252594"
     },
     "user_tz": -480
    },
    "id": "nusCeaZlMgDp"
   },
   "outputs": [],
   "source": [
    "def get_penalty (n, choice):\n",
    "    penalty = None\n",
    "    if choice == 0:\n",
    "        penalty = 0\n",
    "    if choice == 1: \n",
    "        penalty = 50 \n",
    "    if choice == 2: \n",
    "        penalty = 50 + 9*n\n",
    "    if choice == 3: \n",
    "        penalty = 100 + 9*n\n",
    "    if choice == 4: \n",
    "        penalty = 200 + 9*n\n",
    "    if choice == 5: \n",
    "        penalty = 200 + 18*n\n",
    "    if choice == 6: \n",
    "        penalty = 300 + 18*n\n",
    "    if choice == 7: \n",
    "        penalty = 300 + 36*n\n",
    "    if choice == 8: \n",
    "        penalty = 400 + 36*n\n",
    "    if choice == 9: \n",
    "        penalty = 500 + (36+199)*n\n",
    "    if choice > 9: \n",
    "        penalty = 500 + (36+398)*n\n",
    "    return penalty\n"
   ]
  },
  {
   "cell_type": "code",
   "execution_count": 11,
   "metadata": {
    "executionInfo": {
     "elapsed": 4894,
     "status": "ok",
     "timestamp": 1606056101579,
     "user": {
      "displayName": "Xiang Guo",
      "photoUrl": "",
      "userId": "05247754681499252594"
     },
     "user_tz": -480
    },
    "id": "htZBxrjeMjW7"
   },
   "outputs": [],
   "source": [
    "#安排的天数\n",
    "N_days = 100 \n",
    "#家庭个数\n",
    "N_family = 5000 \n",
    "#最小承载量\n",
    "Min_occupancy = 125\n",
    "#最大承载量\n",
    "Max_occupancy = 300"
   ]
  },
  {
   "cell_type": "code",
   "execution_count": 12,
   "metadata": {
    "executionInfo": {
     "elapsed": 4892,
     "status": "ok",
     "timestamp": 1606056101579,
     "user": {
      "displayName": "Xiang Guo",
      "photoUrl": "",
      "userId": "05247754681499252594"
     },
     "user_tz": -480
    },
    "id": "9WXQdvkWMmIr"
   },
   "outputs": [],
   "source": [
    "import numpy as np"
   ]
  },
  {
   "cell_type": "code",
   "execution_count": 13,
   "metadata": {
    "colab": {
     "base_uri": "https://localhost:8080/"
    },
    "executionInfo": {
     "elapsed": 4889,
     "status": "ok",
     "timestamp": 1606056101579,
     "user": {
      "displayName": "Xiang Guo",
      "photoUrl": "",
      "userId": "05247754681499252594"
     },
     "user_tz": -480
    },
    "id": "EdEL_89AMojz",
    "outputId": "1b93ad52-1145-4107-a632-3c9beea4d8f6"
   },
   "outputs": [
    {
     "data": {
      "text/plain": [
       "(5000, 100)"
      ]
     },
     "execution_count": 13,
     "metadata": {
      "tags": []
     },
     "output_type": "execute_result"
    }
   ],
   "source": [
    "pcost_mat = np.full(shape =(N_family, 100), fill_value= 999999)\n",
    "pcost_mat.shape"
   ]
  },
  {
   "cell_type": "code",
   "execution_count": 14,
   "metadata": {
    "executionInfo": {
     "elapsed": 10477,
     "status": "ok",
     "timestamp": 1606056107171,
     "user": {
      "displayName": "Xiang Guo",
      "photoUrl": "",
      "userId": "05247754681499252594"
     },
     "user_tz": -480
    },
    "id": "dSl3D0kUMs4D"
   },
   "outputs": [],
   "source": [
    "for f in range(N_family):\n",
    "    # 家庭成员数\n",
    "    f_num = data.loc[f, 'n_people']\n",
    "    #print(f_num)\n",
    "    # 对于第f个家庭，初始化pcost = other choice下的penalty\n",
    "    pcost_mat[f, :] = get_penalty(f_num, 10)\n",
    "    \n",
    "    #计算choice0-9的penalty\n",
    "    for choice in range(10):\n",
    "        temp  = data.loc[f][choice] #choice的天数\n",
    "        #print('temp: ',temp)\n",
    "        penalty = get_penalty(f_num, choice)\n",
    "        pcost_mat[f, temp-1] = penalty"
   ]
  },
  {
   "cell_type": "code",
   "execution_count": 15,
   "metadata": {
    "colab": {
     "base_uri": "https://localhost:8080/"
    },
    "executionInfo": {
     "elapsed": 10474,
     "status": "ok",
     "timestamp": 1606056107172,
     "user": {
      "displayName": "Xiang Guo",
      "photoUrl": "",
      "userId": "05247754681499252594"
     },
     "user_tz": -480
    },
    "id": "mNvdeOcuMvcb",
    "outputId": "ce726acb-e35c-4876-f2b2-bf70352c10bc"
   },
   "outputs": [
    {
     "data": {
      "text/plain": [
       "array([[2236, 2236, 2236, ..., 2236, 2236, 2236],\n",
       "       [2236, 2236, 2236, ..., 2236, 2236, 2236],\n",
       "       [1802, 1802, 1802, ..., 1802, 1802,    0],\n",
       "       ...,\n",
       "       [3104, 3104,  616, ..., 3104, 3104, 3104],\n",
       "       [ 390, 2670, 2670, ..., 2670, 2670, 2670],\n",
       "       [2236, 2236, 2236, ..., 2236, 2236, 2236]])"
      ]
     },
     "execution_count": 15,
     "metadata": {
      "tags": []
     },
     "output_type": "execute_result"
    }
   ],
   "source": [
    "pcost_mat"
   ]
  },
  {
   "cell_type": "code",
   "execution_count": 50,
   "metadata": {
    "executionInfo": {
     "elapsed": 1894,
     "status": "ok",
     "timestamp": 1606059504515,
     "user": {
      "displayName": "Xiang Guo",
      "photoUrl": "",
      "userId": "05247754681499252594"
     },
     "user_tz": -480
    },
    "id": "3R-Ej0-bMyWT"
   },
   "outputs": [],
   "source": [
    "acost_mat = np.zeros(shape=(Max_occupancy+1,Max_occupancy+1),dtype=np.float64)"
   ]
  },
  {
   "cell_type": "code",
   "execution_count": 17,
   "metadata": {
    "colab": {
     "base_uri": "https://localhost:8080/"
    },
    "executionInfo": {
     "elapsed": 10816,
     "status": "ok",
     "timestamp": 1606056107524,
     "user": {
      "displayName": "Xiang Guo",
      "photoUrl": "",
      "userId": "05247754681499252594"
     },
     "user_tz": -480
    },
    "id": "gdDADY6GM1B0",
    "outputId": "e9bdf90d-702f-48dd-f1ee-96d351e0d76a"
   },
   "outputs": [
    {
     "data": {
      "text/plain": [
       "array([[0.00000000e+00, 0.00000000e+00, 0.00000000e+00, ...,\n",
       "        0.00000000e+00, 0.00000000e+00, 0.00000000e+00],\n",
       "       [0.00000000e+00, 0.00000000e+00, 0.00000000e+00, ...,\n",
       "        0.00000000e+00, 0.00000000e+00, 0.00000000e+00],\n",
       "       [0.00000000e+00, 0.00000000e+00, 0.00000000e+00, ...,\n",
       "        0.00000000e+00, 0.00000000e+00, 0.00000000e+00],\n",
       "       ...,\n",
       "       [3.61426498e+15, 3.22526096e+15, 2.87812553e+15, ...,\n",
       "        7.41048581e+00, 8.30427666e+00, 9.30586908e+00],\n",
       "       [4.16316072e+15, 3.71482922e+15, 3.31477861e+15, ...,\n",
       "        8.36716954e+00, 7.46610759e+00, 8.36716954e+00],\n",
       "       [4.79555148e+15, 4.27883100e+15, 3.81778713e+15, ...,\n",
       "        9.44825702e+00, 8.43020770e+00, 7.52185316e+00]])"
      ]
     },
     "execution_count": 17,
     "metadata": {
      "tags": []
     },
     "output_type": "execute_result"
    }
   ],
   "source": [
    "for i in range(Max_occupancy): #当天的安排人数\n",
    "    for j in range(Max_occupancy): #前天的安排人数\n",
    "        diff = np.abs(i-j)\n",
    "        #防止负数出现，对下面方程的负数结果改为0\n",
    "        acost_mat[i,j] = max(0,(i-125)/400*i**(0.5 + diff/50.0))\n",
    "acost_mat"
   ]
  },
  {
   "cell_type": "code",
   "execution_count": 18,
   "metadata": {
    "colab": {
     "base_uri": "https://localhost:8080/"
    },
    "executionInfo": {
     "elapsed": 10811,
     "status": "ok",
     "timestamp": 1606056107525,
     "user": {
      "displayName": "Xiang Guo",
      "photoUrl": "",
      "userId": "05247754681499252594"
     },
     "user_tz": -480
    },
    "id": "l2Rz-16iM3hU",
    "outputId": "6575cf8c-5ece-415c-e488-9e32972d604c"
   },
   "outputs": [
    {
     "data": {
      "text/plain": [
       "array([4, 4, 3, ..., 6, 5, 4])"
      ]
     },
     "execution_count": 18,
     "metadata": {
      "tags": []
     },
     "output_type": "execute_result"
    }
   ],
   "source": [
    "family_size = data['n_people'].values\n",
    "family_size"
   ]
  },
  {
   "cell_type": "code",
   "execution_count": 19,
   "metadata": {
    "colab": {
     "base_uri": "https://localhost:8080/"
    },
    "executionInfo": {
     "elapsed": 10806,
     "status": "ok",
     "timestamp": 1606056107525,
     "user": {
      "displayName": "Xiang Guo",
      "photoUrl": "",
      "userId": "05247754681499252594"
     },
     "user_tz": -480
    },
    "id": "fWqWLnBxM6NL",
    "outputId": "8e2d9460-1de1-4512-df31-fc1142bb748e"
   },
   "outputs": [
    {
     "data": {
      "text/plain": [
       "array([[51, 37, 11, ..., 75,  9, 27],\n",
       "       [25,  3, 81, ...,  5, 65, 60],\n",
       "       [99, 53, 24, ..., 88, 79, 32],\n",
       "       ...,\n",
       "       [31, 65, 53, ..., 80,  2,  6],\n",
       "       [66, 91,  3, ..., 11, 25, 69],\n",
       "       [12, 10, 24, ..., 38, 17, 46]])"
      ]
     },
     "execution_count": 19,
     "metadata": {
      "tags": []
     },
     "output_type": "execute_result"
    }
   ],
   "source": [
    "desired = data.values[:,:-1]-1 \n",
    "desired"
   ]
  },
  {
   "cell_type": "markdown",
   "metadata": {
    "id": "-PLTuGPUNAKt"
   },
   "source": [
    "使用LP和MIP求解规划方案"
   ]
  },
  {
   "cell_type": "code",
   "execution_count": 20,
   "metadata": {
    "executionInfo": {
     "elapsed": 10800,
     "status": "ok",
     "timestamp": 1606056107526,
     "user": {
      "displayName": "Xiang Guo",
      "photoUrl": "",
      "userId": "05247754681499252594"
     },
     "user_tz": -480
    },
    "id": "R8p1UsIhM9MU"
   },
   "outputs": [],
   "source": [
    "def solveLP():\n",
    "    #线性规划 优化器\n",
    "    solver = pywraplp.Solver('AssignmentProblem',pywraplp.Solver.GLOP_LINEAR_PROGRAMMING)\n",
    "    \n",
    "    x = {} #family_id 在第j天是否参观\n",
    "    # 每天有哪些家庭\n",
    "    candidates = [[] for x in range(N_days)]\n",
    "    \n",
    "    for i in range(N_family):\n",
    "        for j in desired[i,:]: #family_id的choice\n",
    "            candidates[j].append(i) #在第j天，有i个家庭参观\n",
    "            # 定义决策变量 x[i,j] i代表famil_id j代表第j天参观\n",
    "            x[i,j]= solver.BoolVar('x[%i,%i]'%(i,j))\n",
    "    #每天参观的人数\n",
    "    daily_occupancy = [solver.Sum([x[i,j] * family_size[i] for i in candidates[j]]) \\\n",
    "                for j in range(N_days)]\n",
    "    \n",
    "    #每个家庭，在10个choice中出现的总数\n",
    "    family_presence = [solver.Sum(x[i,j] for j in desired[i,:]) \\\n",
    "              for i in range(N_family)]\n",
    "\n",
    "    #定义目标函数 preference cost部分\n",
    "    preference_cost = solver.Sum([pcost_mat[i,j] * x[i,j] for i in range(N_family) for j in desired[i,:]])\n",
    "    \n",
    "    # 满足preference cost最小\n",
    "    solver.Minimize(preference_cost)\n",
    "\n",
    "    # 约束条件\n",
    "    for j in range(N_days-1):\n",
    "      solver.Add(daily_occupancy[j] - daily_occupancy[j+1] <= 25)\n",
    "      solver.Add(daily_occupancy[j+1] - daily_occupancy[j] <= 25)\n",
    "\n",
    "    # 每个家庭都在10个choice中出现1次\n",
    "    for i in range(N_family):\n",
    "      solver.Add(family_presence[i]==1)\n",
    "    # 每天访问人数约束\n",
    "    for j in range(N_days):\n",
    "      solver.Add(daily_occupancy[j] >= Min_occupancy)\n",
    "      solver.Add(daily_occupancy[j] <= Max_occupancy)\n",
    "    result = solver.Solve()\n",
    "    # result\n",
    "    temp = [(i,j,x[i,j].solution_value()) for i in range(N_family) \\\n",
    "      for j in desired[i,:] if x[i,j].solution_value() >0]\n",
    "    #print(temp)\n",
    "    print(solver.Objective().Value())\n",
    "    # 得到参观日期的安排\n",
    "    df = pd.DataFrame(temp, columns=['family_id','day','result'])\n",
    "    return df\n",
    "\n",
    "    print(x)"
   ]
  },
  {
   "cell_type": "code",
   "execution_count": 21,
   "metadata": {
    "colab": {
     "base_uri": "https://localhost:8080/"
    },
    "executionInfo": {
     "elapsed": 26925,
     "status": "ok",
     "timestamp": 1606056123654,
     "user": {
      "displayName": "Xiang Guo",
      "photoUrl": "",
      "userId": "05247754681499252594"
     },
     "user_tz": -480
    },
    "id": "dV1NYbh0N4p5",
    "outputId": "d931481d-03d1-4671-9d47-f03d8ebaab54"
   },
   "outputs": [
    {
     "name": "stdout",
     "output_type": "stream",
     "text": [
      "73702.31696428571\n",
      "CPU times: user 15.7 s, sys: 114 ms, total: 15.8 s\n",
      "Wall time: 15.8 s\n"
     ]
    }
   ],
   "source": [
    "%%time\n",
    "result = solveLP()"
   ]
  },
  {
   "cell_type": "code",
   "execution_count": 22,
   "metadata": {
    "colab": {
     "base_uri": "https://localhost:8080/",
     "height": 419
    },
    "executionInfo": {
     "elapsed": 26922,
     "status": "ok",
     "timestamp": 1606056123655,
     "user": {
      "displayName": "Xiang Guo",
      "photoUrl": "",
      "userId": "05247754681499252594"
     },
     "user_tz": -480
    },
    "id": "WsBAY4HZN6kq",
    "outputId": "8be9a479-1aa5-458b-b06f-46b32049d1e3"
   },
   "outputs": [
    {
     "data": {
      "text/html": [
       "<div>\n",
       "<style scoped>\n",
       "    .dataframe tbody tr th:only-of-type {\n",
       "        vertical-align: middle;\n",
       "    }\n",
       "\n",
       "    .dataframe tbody tr th {\n",
       "        vertical-align: top;\n",
       "    }\n",
       "\n",
       "    .dataframe thead th {\n",
       "        text-align: right;\n",
       "    }\n",
       "</style>\n",
       "<table border=\"1\" class=\"dataframe\">\n",
       "  <thead>\n",
       "    <tr style=\"text-align: right;\">\n",
       "      <th></th>\n",
       "      <th>family_id</th>\n",
       "      <th>day</th>\n",
       "      <th>result</th>\n",
       "    </tr>\n",
       "  </thead>\n",
       "  <tbody>\n",
       "    <tr>\n",
       "      <th>0</th>\n",
       "      <td>0</td>\n",
       "      <td>51</td>\n",
       "      <td>1.0</td>\n",
       "    </tr>\n",
       "    <tr>\n",
       "      <th>1</th>\n",
       "      <td>1</td>\n",
       "      <td>25</td>\n",
       "      <td>1.0</td>\n",
       "    </tr>\n",
       "    <tr>\n",
       "      <th>2</th>\n",
       "      <td>2</td>\n",
       "      <td>99</td>\n",
       "      <td>1.0</td>\n",
       "    </tr>\n",
       "    <tr>\n",
       "      <th>3</th>\n",
       "      <td>3</td>\n",
       "      <td>1</td>\n",
       "      <td>1.0</td>\n",
       "    </tr>\n",
       "    <tr>\n",
       "      <th>4</th>\n",
       "      <td>4</td>\n",
       "      <td>52</td>\n",
       "      <td>1.0</td>\n",
       "    </tr>\n",
       "    <tr>\n",
       "      <th>...</th>\n",
       "      <td>...</td>\n",
       "      <td>...</td>\n",
       "      <td>...</td>\n",
       "    </tr>\n",
       "    <tr>\n",
       "      <th>5075</th>\n",
       "      <td>4995</td>\n",
       "      <td>15</td>\n",
       "      <td>1.0</td>\n",
       "    </tr>\n",
       "    <tr>\n",
       "      <th>5076</th>\n",
       "      <td>4996</td>\n",
       "      <td>87</td>\n",
       "      <td>1.0</td>\n",
       "    </tr>\n",
       "    <tr>\n",
       "      <th>5077</th>\n",
       "      <td>4997</td>\n",
       "      <td>31</td>\n",
       "      <td>1.0</td>\n",
       "    </tr>\n",
       "    <tr>\n",
       "      <th>5078</th>\n",
       "      <td>4998</td>\n",
       "      <td>91</td>\n",
       "      <td>1.0</td>\n",
       "    </tr>\n",
       "    <tr>\n",
       "      <th>5079</th>\n",
       "      <td>4999</td>\n",
       "      <td>12</td>\n",
       "      <td>1.0</td>\n",
       "    </tr>\n",
       "  </tbody>\n",
       "</table>\n",
       "<p>5080 rows × 3 columns</p>\n",
       "</div>"
      ],
      "text/plain": [
       "      family_id  day  result\n",
       "0             0   51     1.0\n",
       "1             1   25     1.0\n",
       "2             2   99     1.0\n",
       "3             3    1     1.0\n",
       "4             4   52     1.0\n",
       "...         ...  ...     ...\n",
       "5075       4995   15     1.0\n",
       "5076       4996   87     1.0\n",
       "5077       4997   31     1.0\n",
       "5078       4998   91     1.0\n",
       "5079       4999   12     1.0\n",
       "\n",
       "[5080 rows x 3 columns]"
      ]
     },
     "execution_count": 22,
     "metadata": {
      "tags": []
     },
     "output_type": "execute_result"
    }
   ],
   "source": [
    "result"
   ]
  },
  {
   "cell_type": "code",
   "execution_count": 23,
   "metadata": {
    "colab": {
     "base_uri": "https://localhost:8080/",
     "height": 419
    },
    "executionInfo": {
     "elapsed": 26917,
     "status": "ok",
     "timestamp": 1606056123656,
     "user": {
      "displayName": "Xiang Guo",
      "photoUrl": "",
      "userId": "05247754681499252594"
     },
     "user_tz": -480
    },
    "id": "oEWYL3QaU2kZ",
    "outputId": "c8571b1a-0d07-4110-fbca-305ba5468fbc"
   },
   "outputs": [
    {
     "data": {
      "text/html": [
       "<div>\n",
       "<style scoped>\n",
       "    .dataframe tbody tr th:only-of-type {\n",
       "        vertical-align: middle;\n",
       "    }\n",
       "\n",
       "    .dataframe tbody tr th {\n",
       "        vertical-align: top;\n",
       "    }\n",
       "\n",
       "    .dataframe thead th {\n",
       "        text-align: right;\n",
       "    }\n",
       "</style>\n",
       "<table border=\"1\" class=\"dataframe\">\n",
       "  <thead>\n",
       "    <tr style=\"text-align: right;\">\n",
       "      <th></th>\n",
       "      <th>family_id</th>\n",
       "      <th>day</th>\n",
       "      <th>result</th>\n",
       "    </tr>\n",
       "  </thead>\n",
       "  <tbody>\n",
       "    <tr>\n",
       "      <th>0</th>\n",
       "      <td>0</td>\n",
       "      <td>51</td>\n",
       "      <td>1.0</td>\n",
       "    </tr>\n",
       "    <tr>\n",
       "      <th>1</th>\n",
       "      <td>1</td>\n",
       "      <td>25</td>\n",
       "      <td>1.0</td>\n",
       "    </tr>\n",
       "    <tr>\n",
       "      <th>2</th>\n",
       "      <td>2</td>\n",
       "      <td>99</td>\n",
       "      <td>1.0</td>\n",
       "    </tr>\n",
       "    <tr>\n",
       "      <th>3</th>\n",
       "      <td>3</td>\n",
       "      <td>1</td>\n",
       "      <td>1.0</td>\n",
       "    </tr>\n",
       "    <tr>\n",
       "      <th>4</th>\n",
       "      <td>4</td>\n",
       "      <td>52</td>\n",
       "      <td>1.0</td>\n",
       "    </tr>\n",
       "    <tr>\n",
       "      <th>...</th>\n",
       "      <td>...</td>\n",
       "      <td>...</td>\n",
       "      <td>...</td>\n",
       "    </tr>\n",
       "    <tr>\n",
       "      <th>5075</th>\n",
       "      <td>4995</td>\n",
       "      <td>15</td>\n",
       "      <td>1.0</td>\n",
       "    </tr>\n",
       "    <tr>\n",
       "      <th>5076</th>\n",
       "      <td>4996</td>\n",
       "      <td>87</td>\n",
       "      <td>1.0</td>\n",
       "    </tr>\n",
       "    <tr>\n",
       "      <th>5077</th>\n",
       "      <td>4997</td>\n",
       "      <td>31</td>\n",
       "      <td>1.0</td>\n",
       "    </tr>\n",
       "    <tr>\n",
       "      <th>5078</th>\n",
       "      <td>4998</td>\n",
       "      <td>91</td>\n",
       "      <td>1.0</td>\n",
       "    </tr>\n",
       "    <tr>\n",
       "      <th>5079</th>\n",
       "      <td>4999</td>\n",
       "      <td>12</td>\n",
       "      <td>1.0</td>\n",
       "    </tr>\n",
       "  </tbody>\n",
       "</table>\n",
       "<p>4931 rows × 3 columns</p>\n",
       "</div>"
      ],
      "text/plain": [
       "      family_id  day  result\n",
       "0             0   51     1.0\n",
       "1             1   25     1.0\n",
       "2             2   99     1.0\n",
       "3             3    1     1.0\n",
       "4             4   52     1.0\n",
       "...         ...  ...     ...\n",
       "5075       4995   15     1.0\n",
       "5076       4996   87     1.0\n",
       "5077       4997   31     1.0\n",
       "5078       4998   91     1.0\n",
       "5079       4999   12     1.0\n",
       "\n",
       "[4931 rows x 3 columns]"
      ]
     },
     "execution_count": 23,
     "metadata": {
      "tags": []
     },
     "output_type": "execute_result"
    }
   ],
   "source": [
    "# 设置阈值\n",
    "THRS = 0.999\n",
    "assigned_df = result[result.result > THRS]\n",
    "assigned_df"
   ]
  },
  {
   "cell_type": "code",
   "execution_count": 24,
   "metadata": {
    "colab": {
     "base_uri": "https://localhost:8080/",
     "height": 419
    },
    "executionInfo": {
     "elapsed": 26912,
     "status": "ok",
     "timestamp": 1606056123656,
     "user": {
      "displayName": "Xiang Guo",
      "photoUrl": "",
      "userId": "05247754681499252594"
     },
     "user_tz": -480
    },
    "id": "QJuiqxuNXE0p",
    "outputId": "19b6a283-9623-49d2-c280-6f679ca4024e"
   },
   "outputs": [
    {
     "data": {
      "text/html": [
       "<div>\n",
       "<style scoped>\n",
       "    .dataframe tbody tr th:only-of-type {\n",
       "        vertical-align: middle;\n",
       "    }\n",
       "\n",
       "    .dataframe tbody tr th {\n",
       "        vertical-align: top;\n",
       "    }\n",
       "\n",
       "    .dataframe thead th {\n",
       "        text-align: right;\n",
       "    }\n",
       "</style>\n",
       "<table border=\"1\" class=\"dataframe\">\n",
       "  <thead>\n",
       "    <tr style=\"text-align: right;\">\n",
       "      <th></th>\n",
       "      <th>family_id</th>\n",
       "      <th>day</th>\n",
       "      <th>result</th>\n",
       "    </tr>\n",
       "  </thead>\n",
       "  <tbody>\n",
       "    <tr>\n",
       "      <th>60</th>\n",
       "      <td>59</td>\n",
       "      <td>38</td>\n",
       "      <td>0.25</td>\n",
       "    </tr>\n",
       "    <tr>\n",
       "      <th>61</th>\n",
       "      <td>59</td>\n",
       "      <td>14</td>\n",
       "      <td>0.75</td>\n",
       "    </tr>\n",
       "    <tr>\n",
       "      <th>242</th>\n",
       "      <td>240</td>\n",
       "      <td>32</td>\n",
       "      <td>0.75</td>\n",
       "    </tr>\n",
       "    <tr>\n",
       "      <th>243</th>\n",
       "      <td>240</td>\n",
       "      <td>56</td>\n",
       "      <td>0.25</td>\n",
       "    </tr>\n",
       "    <tr>\n",
       "      <th>265</th>\n",
       "      <td>262</td>\n",
       "      <td>31</td>\n",
       "      <td>0.50</td>\n",
       "    </tr>\n",
       "    <tr>\n",
       "      <th>...</th>\n",
       "      <td>...</td>\n",
       "      <td>...</td>\n",
       "      <td>...</td>\n",
       "    </tr>\n",
       "    <tr>\n",
       "      <th>4990</th>\n",
       "      <td>4912</td>\n",
       "      <td>8</td>\n",
       "      <td>0.40</td>\n",
       "    </tr>\n",
       "    <tr>\n",
       "      <th>4992</th>\n",
       "      <td>4914</td>\n",
       "      <td>38</td>\n",
       "      <td>0.60</td>\n",
       "    </tr>\n",
       "    <tr>\n",
       "      <th>4993</th>\n",
       "      <td>4914</td>\n",
       "      <td>43</td>\n",
       "      <td>0.40</td>\n",
       "    </tr>\n",
       "    <tr>\n",
       "      <th>5040</th>\n",
       "      <td>4961</td>\n",
       "      <td>53</td>\n",
       "      <td>0.75</td>\n",
       "    </tr>\n",
       "    <tr>\n",
       "      <th>5041</th>\n",
       "      <td>4961</td>\n",
       "      <td>15</td>\n",
       "      <td>0.25</td>\n",
       "    </tr>\n",
       "  </tbody>\n",
       "</table>\n",
       "<p>138 rows × 3 columns</p>\n",
       "</div>"
      ],
      "text/plain": [
       "      family_id  day  result\n",
       "60           59   38    0.25\n",
       "61           59   14    0.75\n",
       "242         240   32    0.75\n",
       "243         240   56    0.25\n",
       "265         262   31    0.50\n",
       "...         ...  ...     ...\n",
       "4990       4912    8    0.40\n",
       "4992       4914   38    0.60\n",
       "4993       4914   43    0.40\n",
       "5040       4961   53    0.75\n",
       "5041       4961   15    0.25\n",
       "\n",
       "[138 rows x 3 columns]"
      ]
     },
     "execution_count": 24,
     "metadata": {
      "tags": []
     },
     "output_type": "execute_result"
    }
   ],
   "source": [
    "# 没有安排的，不为0和1\n",
    "unassigned_df = result[(result.result < THRS) & (result.result > 1-THRS)]\n",
    "unassigned_df"
   ]
  },
  {
   "cell_type": "code",
   "execution_count": 25,
   "metadata": {
    "colab": {
     "base_uri": "https://localhost:8080/",
     "height": 547
    },
    "executionInfo": {
     "elapsed": 26911,
     "status": "ok",
     "timestamp": 1606056123657,
     "user": {
      "displayName": "Xiang Guo",
      "photoUrl": "",
      "userId": "05247754681499252594"
     },
     "user_tz": -480
    },
    "id": "Vj_ZXh8zXenZ",
    "outputId": "038b44d0-914e-48ba-fed9-53c6a5747042"
   },
   "outputs": [
    {
     "name": "stderr",
     "output_type": "stream",
     "text": [
      "/usr/local/lib/python3.6/dist-packages/ipykernel_launcher.py:2: SettingWithCopyWarning: \n",
      "A value is trying to be set on a copy of a slice from a DataFrame.\n",
      "Try using .loc[row_indexer,col_indexer] = value instead\n",
      "\n",
      "See the caveats in the documentation: https://pandas.pydata.org/pandas-docs/stable/user_guide/indexing.html#returning-a-view-versus-a-copy\n",
      "  \n"
     ]
    },
    {
     "data": {
      "text/html": [
       "<div>\n",
       "<style scoped>\n",
       "    .dataframe tbody tr th:only-of-type {\n",
       "        vertical-align: middle;\n",
       "    }\n",
       "\n",
       "    .dataframe tbody tr th {\n",
       "        vertical-align: top;\n",
       "    }\n",
       "\n",
       "    .dataframe thead th {\n",
       "        text-align: right;\n",
       "    }\n",
       "</style>\n",
       "<table border=\"1\" class=\"dataframe\">\n",
       "  <thead>\n",
       "    <tr style=\"text-align: right;\">\n",
       "      <th></th>\n",
       "      <th>family_id</th>\n",
       "      <th>day</th>\n",
       "      <th>result</th>\n",
       "      <th>family_size</th>\n",
       "    </tr>\n",
       "  </thead>\n",
       "  <tbody>\n",
       "    <tr>\n",
       "      <th>0</th>\n",
       "      <td>0</td>\n",
       "      <td>51</td>\n",
       "      <td>1.0</td>\n",
       "      <td>4</td>\n",
       "    </tr>\n",
       "    <tr>\n",
       "      <th>1</th>\n",
       "      <td>1</td>\n",
       "      <td>25</td>\n",
       "      <td>1.0</td>\n",
       "      <td>4</td>\n",
       "    </tr>\n",
       "    <tr>\n",
       "      <th>2</th>\n",
       "      <td>2</td>\n",
       "      <td>99</td>\n",
       "      <td>1.0</td>\n",
       "      <td>3</td>\n",
       "    </tr>\n",
       "    <tr>\n",
       "      <th>3</th>\n",
       "      <td>3</td>\n",
       "      <td>1</td>\n",
       "      <td>1.0</td>\n",
       "      <td>2</td>\n",
       "    </tr>\n",
       "    <tr>\n",
       "      <th>4</th>\n",
       "      <td>4</td>\n",
       "      <td>52</td>\n",
       "      <td>1.0</td>\n",
       "      <td>4</td>\n",
       "    </tr>\n",
       "    <tr>\n",
       "      <th>...</th>\n",
       "      <td>...</td>\n",
       "      <td>...</td>\n",
       "      <td>...</td>\n",
       "      <td>...</td>\n",
       "    </tr>\n",
       "    <tr>\n",
       "      <th>5075</th>\n",
       "      <td>4995</td>\n",
       "      <td>15</td>\n",
       "      <td>1.0</td>\n",
       "      <td>4</td>\n",
       "    </tr>\n",
       "    <tr>\n",
       "      <th>5076</th>\n",
       "      <td>4996</td>\n",
       "      <td>87</td>\n",
       "      <td>1.0</td>\n",
       "      <td>2</td>\n",
       "    </tr>\n",
       "    <tr>\n",
       "      <th>5077</th>\n",
       "      <td>4997</td>\n",
       "      <td>31</td>\n",
       "      <td>1.0</td>\n",
       "      <td>6</td>\n",
       "    </tr>\n",
       "    <tr>\n",
       "      <th>5078</th>\n",
       "      <td>4998</td>\n",
       "      <td>91</td>\n",
       "      <td>1.0</td>\n",
       "      <td>5</td>\n",
       "    </tr>\n",
       "    <tr>\n",
       "      <th>5079</th>\n",
       "      <td>4999</td>\n",
       "      <td>12</td>\n",
       "      <td>1.0</td>\n",
       "      <td>4</td>\n",
       "    </tr>\n",
       "  </tbody>\n",
       "</table>\n",
       "<p>4931 rows × 4 columns</p>\n",
       "</div>"
      ],
      "text/plain": [
       "      family_id  day  result  family_size\n",
       "0             0   51     1.0            4\n",
       "1             1   25     1.0            4\n",
       "2             2   99     1.0            3\n",
       "3             3    1     1.0            2\n",
       "4             4   52     1.0            4\n",
       "...         ...  ...     ...          ...\n",
       "5075       4995   15     1.0            4\n",
       "5076       4996   87     1.0            2\n",
       "5077       4997   31     1.0            6\n",
       "5078       4998   91     1.0            5\n",
       "5079       4999   12     1.0            4\n",
       "\n",
       "[4931 rows x 4 columns]"
      ]
     },
     "execution_count": 25,
     "metadata": {
      "tags": []
     },
     "output_type": "execute_result"
    }
   ],
   "source": [
    "# 计算每天访问的人数\n",
    "assigned_df['family_size'] = family_size[assigned_df.family_id]\n",
    "assigned_df"
   ]
  },
  {
   "cell_type": "code",
   "execution_count": 27,
   "metadata": {
    "colab": {
     "base_uri": "https://localhost:8080/"
    },
    "executionInfo": {
     "elapsed": 840,
     "status": "ok",
     "timestamp": 1606056160816,
     "user": {
      "displayName": "Xiang Guo",
      "photoUrl": "",
      "userId": "05247754681499252594"
     },
     "user_tz": -480
    },
    "id": "E3VyY9xiZTN9",
    "outputId": "2e8c1dfc-f367-4f95-f7cc-c9799a6b7e7a"
   },
   "outputs": [
    {
     "data": {
      "text/plain": [
       "array([285, 271, 294, 293, 263, 242, 223, 247, 273, 297, 288, 292, 275,\n",
       "       250, 245, 272, 292, 292, 271, 248, 223, 244, 264, 291, 292, 296,\n",
       "       273, 249, 234, 251, 278, 283, 252, 235, 205, 184, 202, 233, 253,\n",
       "       226, 210, 183, 204, 229, 247, 281, 256, 223, 204, 198, 222, 248,\n",
       "       256, 223, 208, 185, 173, 196, 219, 198, 174, 141, 124, 121, 149,\n",
       "       170, 178, 160, 136, 123, 125, 135, 158, 185, 158, 134, 121, 125,\n",
       "       142, 167, 186, 167, 138, 120, 128, 155, 174, 203, 177, 152, 130,\n",
       "       122, 130, 158, 183, 158, 128, 125, 122, 124])"
      ]
     },
     "execution_count": 27,
     "metadata": {
      "tags": []
     },
     "output_type": "execute_result"
    }
   ],
   "source": [
    "# 按照day进行聚合\n",
    "occupancy = assigned_df.groupby('day').family_size.sum().values\n",
    "occupancy"
   ]
  },
  {
   "cell_type": "code",
   "execution_count": 28,
   "metadata": {
    "colab": {
     "base_uri": "https://localhost:8080/"
    },
    "executionInfo": {
     "elapsed": 1045,
     "status": "ok",
     "timestamp": 1606056270401,
     "user": {
      "displayName": "Xiang Guo",
      "photoUrl": "",
      "userId": "05247754681499252594"
     },
     "user_tz": -480
    },
    "id": "1opz9sV9aCq3",
    "outputId": "eb00376a-0ca3-4f45-b1c9-d009697deb3c"
   },
   "outputs": [
    {
     "data": {
      "text/plain": [
       "array([0, 0, 0, 0, 0, 0, 0, 0, 0, 0, 0, 0, 0, 0, 0, 0, 0, 0, 0, 0, 0, 0,\n",
       "       0, 0, 0, 0, 0, 0, 0, 0, 0, 0, 0, 0, 0, 0, 0, 0, 0, 0, 0, 0, 0, 0,\n",
       "       0, 0, 0, 0, 0, 0, 0, 0, 0, 0, 0, 0, 0, 0, 0, 0, 0, 0, 1, 4, 0, 0,\n",
       "       0, 0, 0, 2, 0, 0, 0, 0, 0, 0, 4, 0, 0, 0, 0, 0, 0, 5, 0, 0, 0, 0,\n",
       "       0, 0, 0, 3, 0, 0, 0, 0, 0, 0, 3, 1])"
      ]
     },
     "execution_count": 28,
     "metadata": {
      "tags": []
     },
     "output_type": "execute_result"
    }
   ],
   "source": [
    "min_occupancy = np.array([max(0,Min_occupancy - x) for x in occupancy])\n",
    "min_occupancy"
   ]
  },
  {
   "cell_type": "code",
   "execution_count": 29,
   "metadata": {
    "colab": {
     "base_uri": "https://localhost:8080/"
    },
    "executionInfo": {
     "elapsed": 837,
     "status": "ok",
     "timestamp": 1606056311321,
     "user": {
      "displayName": "Xiang Guo",
      "photoUrl": "",
      "userId": "05247754681499252594"
     },
     "user_tz": -480
    },
    "id": "RL-aGJWWadYJ",
    "outputId": "0f927a72-29eb-4c1c-d9bb-f654b2068baa"
   },
   "outputs": [
    {
     "data": {
      "text/plain": [
       "array([ 15,  29,   6,   7,  37,  58,  77,  53,  27,   3,  12,   8,  25,\n",
       "        50,  55,  28,   8,   8,  29,  52,  77,  56,  36,   9,   8,   4,\n",
       "        27,  51,  66,  49,  22,  17,  48,  65,  95, 116,  98,  67,  47,\n",
       "        74,  90, 117,  96,  71,  53,  19,  44,  77,  96, 102,  78,  52,\n",
       "        44,  77,  92, 115, 127, 104,  81, 102, 126, 159, 176, 179, 151,\n",
       "       130, 122, 140, 164, 177, 175, 165, 142, 115, 142, 166, 179, 175,\n",
       "       158, 133, 114, 133, 162, 180, 172, 145, 126,  97, 123, 148, 170,\n",
       "       178, 170, 142, 117, 142, 172, 175, 178, 176])"
      ]
     },
     "execution_count": 29,
     "metadata": {
      "tags": []
     },
     "output_type": "execute_result"
    }
   ],
   "source": [
    "max_occupancy = np.array([Max_occupancy - x for x in occupancy])\n",
    "max_occupancy"
   ]
  },
  {
   "cell_type": "code",
   "execution_count": 31,
   "metadata": {
    "executionInfo": {
     "elapsed": 874,
     "status": "ok",
     "timestamp": 1606057191413,
     "user": {
      "displayName": "Xiang Guo",
      "photoUrl": "",
      "userId": "05247754681499252594"
     },
     "user_tz": -480
    },
    "id": "5wzFVE4Qanaw"
   },
   "outputs": [],
   "source": [
    "#使用整数规划进行求解\n",
    "def solveIP(families, min_occupancy, max_occupancy):\n",
    "  #创建求解器\n",
    "  solver = pywraplp.Solver('AssignmentProblem',pywraplp.Solver.CBC_MIXED_INTEGER_PROGRAMMING)\n",
    "  # 需要安排的家庭\n",
    "  n_families = len(families)\n",
    "  \n",
    "  x = {}\n",
    "\n",
    "  # 每天有哪些家庭\n",
    "  candidates = [[] for x in range(N_days)]\n",
    "    \n",
    "  for i in families: #family_id\n",
    "      for j in desired[i,:]: #family_id的choice\n",
    "          candidates[j].append(i) #在第j天，有i个家庭参观\n",
    "          # 定义决策变量 x[i,j] i代表famil_id j代表第j天参观\n",
    "          x[i,j]= solver.BoolVar('x[%i,%i]'%(i,j))\n",
    "    \n",
    "  #每天参观的人数, x[i,j] = 0 或者1\n",
    "  daily_occupancy = [solver.Sum([x[i,j] * family_size[i] for i in candidates[j]]) \\\n",
    "                for j in range(N_days)]\n",
    "    \n",
    "  #每个家庭，在10个choice中出现的总数\n",
    "  family_presence = [solver.Sum(x[i,j] for j in desired[i,:]) \\\n",
    "              for i in families]\n",
    "\n",
    "  #定义目标函数 preference cost部分\n",
    "  preference_cost = solver.Sum([pcost_mat[i,j] * x[i,j] for i in families for j in desired[i,:]])\n",
    "    \n",
    "  # 满足preference cost最小\n",
    "  solver.Minimize(preference_cost)\n",
    "\n",
    "  # 每个家庭都在10个choice中出现1次\n",
    "  for i in range(n_families):\n",
    "    solver.Add(family_presence[i]==1)\n",
    "  # 每天访问人数约束\n",
    "  for j in range(N_days):\n",
    "    solver.Add(daily_occupancy[j] >= min_occupancy[j])\n",
    "    solver.Add(daily_occupancy[j] <= max_occupancy[j])\n",
    "  result = solver.Solve()\n",
    "  # result\n",
    "  temp = [(i,j) for i in families \\\n",
    "    for j in desired[i,:] if x[i,j].solution_value() >0]\n",
    "    \n",
    "  # 计算出剩余家庭的安排\n",
    "  df = pd.DataFrame(temp, columns=['family_id','day'])\n",
    "  return df\n"
   ]
  },
  {
   "cell_type": "code",
   "execution_count": 33,
   "metadata": {
    "executionInfo": {
     "elapsed": 864,
     "status": "ok",
     "timestamp": 1606057616376,
     "user": {
      "displayName": "Xiang Guo",
      "photoUrl": "",
      "userId": "05247754681499252594"
     },
     "user_tz": -480
    },
    "id": "K0kqmskUfYTt"
   },
   "outputs": [],
   "source": [
    "#没有安排的family id\n",
    "unassigned = unassigned_df.family_id.unique()"
   ]
  },
  {
   "cell_type": "code",
   "execution_count": 34,
   "metadata": {
    "executionInfo": {
     "elapsed": 1042,
     "status": "ok",
     "timestamp": 1606057624229,
     "user": {
      "displayName": "Xiang Guo",
      "photoUrl": "",
      "userId": "05247754681499252594"
     },
     "user_tz": -480
    },
    "id": "AuWsmJiBdcM4"
   },
   "outputs": [],
   "source": [
    "result = solveIP(unassigned,min_occupancy, max_occupancy)"
   ]
  },
  {
   "cell_type": "code",
   "execution_count": 35,
   "metadata": {
    "colab": {
     "base_uri": "https://localhost:8080/",
     "height": 419
    },
    "executionInfo": {
     "elapsed": 893,
     "status": "ok",
     "timestamp": 1606057658678,
     "user": {
      "displayName": "Xiang Guo",
      "photoUrl": "",
      "userId": "05247754681499252594"
     },
     "user_tz": -480
    },
    "id": "rWxryhtAeiyn",
    "outputId": "aabc0cad-7536-4f95-c59c-36c4f367c9fa"
   },
   "outputs": [
    {
     "data": {
      "text/html": [
       "<div>\n",
       "<style scoped>\n",
       "    .dataframe tbody tr th:only-of-type {\n",
       "        vertical-align: middle;\n",
       "    }\n",
       "\n",
       "    .dataframe tbody tr th {\n",
       "        vertical-align: top;\n",
       "    }\n",
       "\n",
       "    .dataframe thead th {\n",
       "        text-align: right;\n",
       "    }\n",
       "</style>\n",
       "<table border=\"1\" class=\"dataframe\">\n",
       "  <thead>\n",
       "    <tr style=\"text-align: right;\">\n",
       "      <th></th>\n",
       "      <th>family_id</th>\n",
       "      <th>day</th>\n",
       "    </tr>\n",
       "  </thead>\n",
       "  <tbody>\n",
       "    <tr>\n",
       "      <th>0</th>\n",
       "      <td>59</td>\n",
       "      <td>38</td>\n",
       "    </tr>\n",
       "    <tr>\n",
       "      <th>1</th>\n",
       "      <td>240</td>\n",
       "      <td>32</td>\n",
       "    </tr>\n",
       "    <tr>\n",
       "      <th>2</th>\n",
       "      <td>262</td>\n",
       "      <td>31</td>\n",
       "    </tr>\n",
       "    <tr>\n",
       "      <th>3</th>\n",
       "      <td>488</td>\n",
       "      <td>39</td>\n",
       "    </tr>\n",
       "    <tr>\n",
       "      <th>4</th>\n",
       "      <td>500</td>\n",
       "      <td>26</td>\n",
       "    </tr>\n",
       "    <tr>\n",
       "      <th>...</th>\n",
       "      <td>...</td>\n",
       "      <td>...</td>\n",
       "    </tr>\n",
       "    <tr>\n",
       "      <th>64</th>\n",
       "      <td>4850</td>\n",
       "      <td>4</td>\n",
       "    </tr>\n",
       "    <tr>\n",
       "      <th>65</th>\n",
       "      <td>4886</td>\n",
       "      <td>98</td>\n",
       "    </tr>\n",
       "    <tr>\n",
       "      <th>66</th>\n",
       "      <td>4912</td>\n",
       "      <td>17</td>\n",
       "    </tr>\n",
       "    <tr>\n",
       "      <th>67</th>\n",
       "      <td>4914</td>\n",
       "      <td>38</td>\n",
       "    </tr>\n",
       "    <tr>\n",
       "      <th>68</th>\n",
       "      <td>4961</td>\n",
       "      <td>53</td>\n",
       "    </tr>\n",
       "  </tbody>\n",
       "</table>\n",
       "<p>69 rows × 2 columns</p>\n",
       "</div>"
      ],
      "text/plain": [
       "    family_id  day\n",
       "0          59   38\n",
       "1         240   32\n",
       "2         262   31\n",
       "3         488   39\n",
       "4         500   26\n",
       "..        ...  ...\n",
       "64       4850    4\n",
       "65       4886   98\n",
       "66       4912   17\n",
       "67       4914   38\n",
       "68       4961   53\n",
       "\n",
       "[69 rows x 2 columns]"
      ]
     },
     "execution_count": 35,
     "metadata": {
      "tags": []
     },
     "output_type": "execute_result"
    }
   ],
   "source": [
    "result"
   ]
  },
  {
   "cell_type": "code",
   "execution_count": 40,
   "metadata": {
    "executionInfo": {
     "elapsed": 852,
     "status": "ok",
     "timestamp": 1606057894118,
     "user": {
      "displayName": "Xiang Guo",
      "photoUrl": "",
      "userId": "05247754681499252594"
     },
     "user_tz": -480
    },
    "id": "yxeXT6lLfwWX"
   },
   "outputs": [],
   "source": [
    "final_result = pd.concat((assigned_df[['family_id','day']], result)).sort_values('family_id')"
   ]
  },
  {
   "cell_type": "code",
   "execution_count": 41,
   "metadata": {
    "colab": {
     "base_uri": "https://localhost:8080/",
     "height": 419
    },
    "executionInfo": {
     "elapsed": 1483,
     "status": "ok",
     "timestamp": 1606057907531,
     "user": {
      "displayName": "Xiang Guo",
      "photoUrl": "",
      "userId": "05247754681499252594"
     },
     "user_tz": -480
    },
    "id": "rRgPOEhogPl4",
    "outputId": "32aa137e-c64c-4e25-ac31-24a94acb25aa"
   },
   "outputs": [
    {
     "data": {
      "text/html": [
       "<div>\n",
       "<style scoped>\n",
       "    .dataframe tbody tr th:only-of-type {\n",
       "        vertical-align: middle;\n",
       "    }\n",
       "\n",
       "    .dataframe tbody tr th {\n",
       "        vertical-align: top;\n",
       "    }\n",
       "\n",
       "    .dataframe thead th {\n",
       "        text-align: right;\n",
       "    }\n",
       "</style>\n",
       "<table border=\"1\" class=\"dataframe\">\n",
       "  <thead>\n",
       "    <tr style=\"text-align: right;\">\n",
       "      <th></th>\n",
       "      <th>family_id</th>\n",
       "      <th>day</th>\n",
       "    </tr>\n",
       "  </thead>\n",
       "  <tbody>\n",
       "    <tr>\n",
       "      <th>0</th>\n",
       "      <td>0</td>\n",
       "      <td>51</td>\n",
       "    </tr>\n",
       "    <tr>\n",
       "      <th>1</th>\n",
       "      <td>1</td>\n",
       "      <td>25</td>\n",
       "    </tr>\n",
       "    <tr>\n",
       "      <th>2</th>\n",
       "      <td>2</td>\n",
       "      <td>99</td>\n",
       "    </tr>\n",
       "    <tr>\n",
       "      <th>3</th>\n",
       "      <td>3</td>\n",
       "      <td>1</td>\n",
       "    </tr>\n",
       "    <tr>\n",
       "      <th>4</th>\n",
       "      <td>4</td>\n",
       "      <td>52</td>\n",
       "    </tr>\n",
       "    <tr>\n",
       "      <th>...</th>\n",
       "      <td>...</td>\n",
       "      <td>...</td>\n",
       "    </tr>\n",
       "    <tr>\n",
       "      <th>5075</th>\n",
       "      <td>4995</td>\n",
       "      <td>15</td>\n",
       "    </tr>\n",
       "    <tr>\n",
       "      <th>5076</th>\n",
       "      <td>4996</td>\n",
       "      <td>87</td>\n",
       "    </tr>\n",
       "    <tr>\n",
       "      <th>5077</th>\n",
       "      <td>4997</td>\n",
       "      <td>31</td>\n",
       "    </tr>\n",
       "    <tr>\n",
       "      <th>5078</th>\n",
       "      <td>4998</td>\n",
       "      <td>91</td>\n",
       "    </tr>\n",
       "    <tr>\n",
       "      <th>5079</th>\n",
       "      <td>4999</td>\n",
       "      <td>12</td>\n",
       "    </tr>\n",
       "  </tbody>\n",
       "</table>\n",
       "<p>5000 rows × 2 columns</p>\n",
       "</div>"
      ],
      "text/plain": [
       "      family_id  day\n",
       "0             0   51\n",
       "1             1   25\n",
       "2             2   99\n",
       "3             3    1\n",
       "4             4   52\n",
       "...         ...  ...\n",
       "5075       4995   15\n",
       "5076       4996   87\n",
       "5077       4997   31\n",
       "5078       4998   91\n",
       "5079       4999   12\n",
       "\n",
       "[5000 rows x 2 columns]"
      ]
     },
     "execution_count": 41,
     "metadata": {
      "tags": []
     },
     "output_type": "execute_result"
    }
   ],
   "source": [
    "final_result"
   ]
  },
  {
   "cell_type": "markdown",
   "metadata": {
    "id": "6pC-xyRJjF1q"
   },
   "source": [
    "对结果进行评估"
   ]
  },
  {
   "cell_type": "code",
   "execution_count": 42,
   "metadata": {
    "executionInfo": {
     "elapsed": 1053,
     "status": "ok",
     "timestamp": 1606058241303,
     "user": {
      "displayName": "Xiang Guo",
      "photoUrl": "",
      "userId": "05247754681499252594"
     },
     "user_tz": -480
    },
    "id": "MQ61388qgs9Q"
   },
   "outputs": [],
   "source": [
    "# 根据安排情况，计算安排的oreference cost\n",
    "def pcost(prediction):\n",
    "  daily_occupancy = np.zeros(N_days+1, dtype=np.int64)\n",
    "  penalty = 0\n",
    "  for (i,p) in enumerate(prediction):\n",
    "    #计算家庭人数\n",
    "    n = family_size[i]\n",
    "    # 第i个家庭，p天访问时的cost\n",
    "    penalty += pcost_mat[i,p]\n",
    "    #计算当天的人数\n",
    "    daily_occupancy[p] += n\n",
    "  return penalty, daily_occupancy\n"
   ]
  },
  {
   "cell_type": "code",
   "execution_count": 51,
   "metadata": {
    "executionInfo": {
     "elapsed": 1933,
     "status": "ok",
     "timestamp": 1606059516571,
     "user": {
      "displayName": "Xiang Guo",
      "photoUrl": "",
      "userId": "05247754681499252594"
     },
     "user_tz": -480
    },
    "id": "2yxOeSMTh-i3"
   },
   "outputs": [],
   "source": [
    "#根据安排情况，计算安排的accounting cost\n",
    "def acost(daily_occupancy):\n",
    "  accounting_cost = 0\n",
    "  num_out_of_range = 0\n",
    "  for day in range(N_days):\n",
    "    n_pl = daily_occupancy[day+1] #前一天\n",
    "    n = daily_occupancy[day] #当天\n",
    "    #如果超过承载范围，则设置out of range\n",
    "    num_out_of_range += (n>Max_occupancy) or (n<Min_occupancy)\n",
    "    #计算accouting cost\n",
    "    accounting_cost += acost_mat[n, n_pl]\n",
    "  return accounting_cost, num_out_of_range"
   ]
  },
  {
   "cell_type": "code",
   "execution_count": 44,
   "metadata": {
    "executionInfo": {
     "elapsed": 835,
     "status": "ok",
     "timestamp": 1606058733139,
     "user": {
      "displayName": "Xiang Guo",
      "photoUrl": "",
      "userId": "05247754681499252594"
     },
     "user_tz": -480
    },
    "id": "GV2j7SY2iqLF"
   },
   "outputs": [],
   "source": [
    "#根据安排prediction\n",
    "def cost_function(prediction):\n",
    "  #基于prediction来计算preference cost和accounting cost\n",
    "  penalty,daily_occupancy = pcost(prediction) #统计preference cost\n",
    "  accounting_cost, num_out_of_range = acost(daily_occupancy) #根据每天承载数量，计算accounting cost\n",
    "  final_score = penalty + accounting_cost + num_out_of_range * 99999999\n",
    "  return final_score"
   ]
  },
  {
   "cell_type": "code",
   "execution_count": 46,
   "metadata": {
    "executionInfo": {
     "elapsed": 884,
     "status": "ok",
     "timestamp": 1606058773157,
     "user": {
      "displayName": "Xiang Guo",
      "photoUrl": "",
      "userId": "05247754681499252594"
     },
     "user_tz": -480
    },
    "id": "6PmLQfYwj2rY"
   },
   "outputs": [],
   "source": [
    "prediction = final_result.day.values"
   ]
  },
  {
   "cell_type": "code",
   "execution_count": 52,
   "metadata": {
    "colab": {
     "base_uri": "https://localhost:8080/"
    },
    "executionInfo": {
     "elapsed": 964,
     "status": "ok",
     "timestamp": 1606059520165,
     "user": {
      "displayName": "Xiang Guo",
      "photoUrl": "",
      "userId": "05247754681499252594"
     },
     "user_tz": -480
    },
    "id": "jIXlOBdPj3iu",
    "outputId": "a3196c80-6f87-4bc1-ec53-260d02207b03"
   },
   "outputs": [
    {
     "name": "stdout",
     "output_type": "stream",
     "text": [
      "72322.0\n"
     ]
    }
   ],
   "source": [
    "print(cost_function(prediction))"
   ]
  },
  {
   "cell_type": "code",
   "execution_count": 53,
   "metadata": {
    "executionInfo": {
     "elapsed": 771,
     "status": "ok",
     "timestamp": 1606059709871,
     "user": {
      "displayName": "Xiang Guo",
      "photoUrl": "",
      "userId": "05247754681499252594"
     },
     "user_tz": -480
    },
    "id": "spWpLBh7kJ1u"
   },
   "outputs": [],
   "source": [
    "def save_result(pred, filename):\n",
    "  result = pd.DataFrame(range(N_family), columns=['family_id'])\n",
    "  result['assigned_day'] = pred +1\n",
    "  result.to_csv(filename, index=False)\n",
    "  print(filename + 'saved')\n",
    "  return result"
   ]
  },
  {
   "cell_type": "code",
   "execution_count": 54,
   "metadata": {
    "colab": {
     "base_uri": "https://localhost:8080/"
    },
    "executionInfo": {
     "elapsed": 819,
     "status": "ok",
     "timestamp": 1606059750211,
     "user": {
      "displayName": "Xiang Guo",
      "photoUrl": "",
      "userId": "05247754681499252594"
     },
     "user_tz": -480
    },
    "id": "O7FmfwEmnlJt",
    "outputId": "ddb76927-5bbc-4e78-e3dc-e644f57f32ba"
   },
   "outputs": [
    {
     "name": "stdout",
     "output_type": "stream",
     "text": [
      "action_result.csvsaved\n"
     ]
    }
   ],
   "source": [
    "result = save_result(prediction,'action_result.csv')"
   ]
  },
  {
   "cell_type": "code",
   "execution_count": 55,
   "metadata": {
    "executionInfo": {
     "elapsed": 907,
     "status": "ok",
     "timestamp": 1606059833260,
     "user": {
      "displayName": "Xiang Guo",
      "photoUrl": "",
      "userId": "05247754681499252594"
     },
     "user_tz": -480
    },
    "id": "jueh_Ga5nu_u"
   },
   "outputs": [],
   "source": [
    "# 寻找更好的方案"
   ]
  },
  {
   "cell_type": "code",
   "execution_count": 56,
   "metadata": {
    "colab": {
     "base_uri": "https://localhost:8080/"
    },
    "executionInfo": {
     "elapsed": 1295,
     "status": "ok",
     "timestamp": 1606059907018,
     "user": {
      "displayName": "Xiang Guo",
      "photoUrl": "",
      "userId": "05247754681499252594"
     },
     "user_tz": -480
    },
    "id": "iRH5y3IxoDP_",
    "outputId": "e7f040ae-f98e-49fa-fef9-43f44af3b132"
   },
   "outputs": [
    {
     "name": "stdout",
     "output_type": "stream",
     "text": [
      "[2070 4520 4188 ... 1081 1099 3186]\n"
     ]
    }
   ],
   "source": [
    "def find_better(pred):\n",
    "  fobs = np.argsort(family_size)\n",
    "  print(fobs)\n",
    "  score = cost_function(pred)\n",
    "  original_score = np.inf #打擂\n",
    "  \n",
    "  while score<original_score:\n",
    "    original_score = score\n",
    "\n",
    "    for family_id in fobs:\n",
    "      for i in range(10):\n",
    "        day = desired[family_id,i]\n",
    "        #该family的原有日期 oldvalue\n",
    "        oldvalue = pred[family_id]\n",
    "        pred[family_id] = display\n",
    "        new_score = cost_function(pred)\n",
    "        #如果比原来分数小，更新choice\n",
    "        if new_score < score:\n",
    "          score = new_score\n",
    "        else:\n",
    "          pred[family_id] = oldvalue\n",
    "      \n",
    "\n",
    "new = prediction.copy()\n",
    "find_better(prediction)"
   ]
  },
  {
   "cell_type": "code",
   "execution_count": null,
   "metadata": {
    "id": "PW0UOBPjoVKV"
   },
   "outputs": [],
   "source": []
  }
 ],
 "metadata": {
  "colab": {
   "authorship_tag": "ABX9TyNYhwQXtCcDLJG8czKajnsk",
   "name": "Action1.ipynb",
   "provenance": []
  },
  "kernelspec": {
   "display_name": "Python 3",
   "language": "python",
   "name": "python3"
  },
  "language_info": {
   "codemirror_mode": {
    "name": "ipython",
    "version": 3
   },
   "file_extension": ".py",
   "mimetype": "text/x-python",
   "name": "python",
   "nbconvert_exporter": "python",
   "pygments_lexer": "ipython3",
   "version": "3.8.3"
  }
 },
 "nbformat": 4,
 "nbformat_minor": 1
}
