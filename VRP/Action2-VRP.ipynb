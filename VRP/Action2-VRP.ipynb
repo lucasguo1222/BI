{
 "cells": [
  {
   "cell_type": "markdown",
   "metadata": {},
   "source": [
    "### 多辆车的路径规划 VRP：\n",
    "#### 条件：经过中国33个城市，一共4辆车，每辆车最大行驶10000公里\n",
    "#### 目标：使得每辆车的行驶里程数更接近"
   ]
  },
  {
   "cell_type": "code",
   "execution_count": 1,
   "metadata": {},
   "outputs": [],
   "source": [
    "import pandas as pd "
   ]
  },
  {
   "cell_type": "code",
   "execution_count": 2,
   "metadata": {},
   "outputs": [],
   "source": [
    "from ortools.constraint_solver import pywrapcp"
   ]
  },
  {
   "cell_type": "code",
   "execution_count": 3,
   "metadata": {},
   "outputs": [],
   "source": [
    "from ortools.constraint_solver import routing_enums_pb2"
   ]
  },
  {
   "cell_type": "code",
   "execution_count": 8,
   "metadata": {},
   "outputs": [],
   "source": [
    "class vrp(object):\n",
    "    #唯一的参数为汽车数量，默认是1\n",
    "    def __init__(self, num_vehicles = 1):\n",
    "        #设置城市名\n",
    "        self.df = pd.read_excel('cities.xlsx')\n",
    "        self.num_vehicles = num_vehicles\n",
    "        \n",
    "    \n",
    "    # 设置数据\n",
    "    def create_data_model(self):\n",
    "        data = {}\n",
    "        temp = pd.read_excel('distance.xlsx',index_col=0)\n",
    "        \n",
    "        #将读入的距离除以1000就是两个城市间的公里数，存入字典中\n",
    "        data['distance_matrix'] = temp.values / 1000\n",
    "        #print(data['distance_matrix'])\n",
    "        data['num_vehicles'] = self.num_vehicles #车的数量\n",
    "        data['depot'] = 0 #下标\n",
    "        return data\n",
    "    \n",
    "    def get_solution(self,manager, routing, solution):\n",
    "        #print('总行驶里程: {} 公里'.format(solution.ObjectiveValue()))\n",
    "        \n",
    "        #记录每辆车的里程\n",
    "        distance_list = []\n",
    "        #记录每辆车的路径规划\n",
    "        route_list = []\n",
    "        \n",
    "        #遍历每辆车\n",
    "        for vehicle_id in range(self.num_vehicles):\n",
    "            #初始化距离为0\n",
    "            route_distance = 0\n",
    "            #针对第vehicle_id个车进行规划\n",
    "            route = []\n",
    "            \n",
    "            # Start后面是 vehicle_id\n",
    "            #从起始节点出发\n",
    "            index = routing.Start(vehicle_id)\n",
    "\n",
    "            # 判断这辆车的路径是否结束\n",
    "            while not routing.IsEnd(index):\n",
    "                # 使用indextonode将manager中的index转换为distance_matrix中的index\n",
    "                index_show = manager.IndexToNode(index)\n",
    "                #添加到route\n",
    "                route.append(index_show)\n",
    "                previous_index = index\n",
    "\n",
    "                #走到下一个节点\n",
    "                index = solution.Value(routing.NextVar(index))\n",
    "\n",
    "                #针对vehicle = 0，统计从previous_index到index节点的距离\n",
    "                route_distance += routing.GetArcCostForVehicle(previous_index, index, 0)\n",
    "            route_list.append(route)\n",
    "            distance_list.append(route_distance)\n",
    "            \n",
    "        return route_list, distance_list\n",
    "    \n",
    "    #添加距离约束\n",
    "    def add_distance_dimension(self, routing, transit_callback_index):\n",
    "        # 添加距离约束\n",
    "        dimension_name = 'Distance'\n",
    "        routing.AddDimension(\n",
    "            transit_callback_index,\n",
    "            0,  # no slack\n",
    "            10000,  # 车辆最大行驶距离\n",
    "            True,  # start cumul to zero\n",
    "            dimension_name)\n",
    "        distance_dimension = routing.GetDimensionOrDie(dimension_name)\n",
    "        \n",
    "        # 尽量减少车辆之间的最大距离, spancost的系数越大，则几辆车的行驶距离越接近\n",
    "        #但是超过一百之后，150，200得到的结果和100接近，甚至略有不如\n",
    "        distance_dimension.SetGlobalSpanCostCoefficient(100)\n",
    "\n",
    "    \n",
    "    def work(self):\n",
    "        # 初始化数据\n",
    "        data = self.create_data_model()\n",
    "\n",
    "        # 创建路线管理，tsp_size（城市数量）, num_vehicles（车的数量）, depot（原点）\n",
    "        manager = pywrapcp.RoutingIndexManager(len(data['distance_matrix']),\n",
    "                                               data['num_vehicles'], data['depot'])\n",
    "\n",
    "        # 创建 Routing Model.\n",
    "        routing = pywrapcp.RoutingModel(manager)\n",
    "\n",
    "        # 注册距离，计算两点之间的距离，输入manager中的两个节点index\n",
    "        def distance_callback(from_index, to_index):\n",
    "            # Convert from routing variable Index to distance matrix NodeIndex.\n",
    "            from_node = manager.IndexToNode(from_index)\n",
    "            to_node = manager.IndexToNode(to_index)\n",
    "            return data['distance_matrix'][from_node][to_node]\n",
    "        \n",
    "        #注册距离函数\n",
    "        transit_callback_index = routing.RegisterTransitCallback(distance_callback)\n",
    "\n",
    "        # Define cost of each arc.\n",
    "        routing.SetArcCostEvaluatorOfAllVehicles(transit_callback_index)\n",
    "    \n",
    "        #添加距离维度\n",
    "        self.add_distance_dimension(routing, transit_callback_index)\n",
    "        \n",
    "        # 设置参数策略，Setting first solution heuristic.\n",
    "        search_parameters = pywrapcp.DefaultRoutingSearchParameters()\n",
    "        #定义最优化问题的目标\n",
    "        search_parameters.first_solution_strategy = (\n",
    "            routing_enums_pb2.FirstSolutionStrategy.PATH_CHEAPEST_ARC)\n",
    "\n",
    "        # 求解路径规划\n",
    "        solution = routing.SolveWithParameters(search_parameters)\n",
    "        # 输出结果\n",
    "        route_list, distance_list = self.get_solution(manager, routing, solution)\n",
    "        \n",
    "        return route_list, distance_list\n",
    "    \n"
   ]
  },
  {
   "cell_type": "markdown",
   "metadata": {},
   "source": [
    "#### 运行一下模块求解问题"
   ]
  },
  {
   "cell_type": "code",
   "execution_count": 9,
   "metadata": {},
   "outputs": [],
   "source": [
    "if __name__ == '__main__':\n",
    "    model = vrp(num_vehicles = 4) #本次一共有4辆车\n",
    "    route_list, distance_list = model.work()"
   ]
  },
  {
   "cell_type": "markdown",
   "metadata": {},
   "source": [
    "#### 显示具体的路线"
   ]
  },
  {
   "cell_type": "code",
   "execution_count": 11,
   "metadata": {},
   "outputs": [
    {
     "data": {
      "text/plain": [
       "[[0, 7, 18, 19, 17, 22, 6],\n",
       " [0, 21],\n",
       " [0, 5, 20, 23, 24, 26, 27, 25, 12, 32, 11, 31, 30, 13, 16],\n",
       " [0, 14, 28, 29, 10, 9, 8, 15, 1, 4, 2, 3]]"
      ]
     },
     "execution_count": 11,
     "metadata": {},
     "output_type": "execute_result"
    }
   ],
   "source": [
    "route_list"
   ]
  },
  {
   "cell_type": "markdown",
   "metadata": {},
   "source": [
    "##### 显示每辆车行驶的距离，大概在6800上下"
   ]
  },
  {
   "cell_type": "code",
   "execution_count": 12,
   "metadata": {},
   "outputs": [
    {
     "data": {
      "text/plain": [
       "[6341, 7096, 6749, 6845]"
      ]
     },
     "execution_count": 12,
     "metadata": {},
     "output_type": "execute_result"
    }
   ],
   "source": [
    "distance_list"
   ]
  },
  {
   "cell_type": "code",
   "execution_count": null,
   "metadata": {},
   "outputs": [],
   "source": []
  }
 ],
 "metadata": {
  "kernelspec": {
   "display_name": "Python 3",
   "language": "python",
   "name": "python3"
  },
  "language_info": {
   "codemirror_mode": {
    "name": "ipython",
    "version": 3
   },
   "file_extension": ".py",
   "mimetype": "text/x-python",
   "name": "python",
   "nbconvert_exporter": "python",
   "pygments_lexer": "ipython3",
   "version": "3.8.3"
  }
 },
 "nbformat": 4,
 "nbformat_minor": 4
}
