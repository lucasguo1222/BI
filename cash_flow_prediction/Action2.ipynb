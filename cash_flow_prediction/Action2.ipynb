{
 "cells": [
  {
   "cell_type": "markdown",
   "metadata": {},
   "source": [
    "# Action2"
   ]
  },
  {
   "cell_type": "markdown",
   "metadata": {},
   "source": [
    "### https://baijiahao.baidu.com/s?id=1690279582150009600&wfr=spider&for=pc"
   ]
  },
  {
   "cell_type": "code",
   "execution_count": 1,
   "metadata": {},
   "outputs": [],
   "source": [
    "import requests"
   ]
  },
  {
   "cell_type": "code",
   "execution_count": 2,
   "metadata": {},
   "outputs": [],
   "source": [
    "from bs4 import BeautifulSoup"
   ]
  },
  {
   "cell_type": "code",
   "execution_count": 3,
   "metadata": {},
   "outputs": [],
   "source": [
    "import jieba"
   ]
  },
  {
   "cell_type": "code",
   "execution_count": 4,
   "metadata": {},
   "outputs": [],
   "source": [
    "url = 'https://baijiahao.baidu.com/s?id=1690279582150009600&wfr=spider&for=pc'"
   ]
  },
  {
   "cell_type": "markdown",
   "metadata": {},
   "source": [
    "### 直接使用get获取网站响应，如果失败可以试着添加header以模仿浏览器"
   ]
  },
  {
   "cell_type": "code",
   "execution_count": 5,
   "metadata": {},
   "outputs": [],
   "source": [
    "html = requests.get(url)"
   ]
  },
  {
   "cell_type": "code",
   "execution_count": 6,
   "metadata": {},
   "outputs": [],
   "source": [
    "content = html.content"
   ]
  },
  {
   "cell_type": "code",
   "execution_count": 7,
   "metadata": {},
   "outputs": [
    {
     "data": {
      "text/plain": [
       "b'<!Doctype html>\\n<html xmlns=\"http://www.w3.org/1999/xhtml\"><head><meta charset=\"utf-8\"/><meta name=\"referrer\" content=\"always\"><meta http-equiv=\"X-UA-Compatible\" content=\"IE=edge,chrome=1\"><meta name=\"viewport\" content=\"width=device-width,initial-scale=1.0,minimum-scale=1.0,maximum-scale=1.0,user-scalable=no\"><link rel=\"shortcut icon\" href=\"https://gss0.bdstatic.com/5bd1bjqh_Q23odCf/static/wiseindex/img/favicon64.ico\" type=\"image/x-icon\"><link rel=\"apple-touch-icon-precomposed\" href=\"https://gss0.bdstatic.com/5bd1bjqh_Q23odCf/static/wiseindex/img/screen_icon_new.png\"><title>\\xe5\\xa4\\x96\\xe5\\xaa\\x92\\xef\\xbc\\x9a\\xe7\\x89\\xb9\\xe6\\x9c\\x97\\xe6\\x99\\xae\\xe7\\xad\\xbe\\xe7\\x9a\\x84\\xe4\\xb8\\xad\\xe7\\xbe\\x8e\\xe7\\xbb\\x8f\\xe8\\xb4\\xb8\\xe5\\x8d\\x8f\\xe8\\xae\\xae\\xef\\xbc\\x8c\\xe6\\x8b\\x9c\\xe7\\x99\\xbb\\xe5\\x8f\\xaf\\xe8\\x83\\xbd\\xe8\\xa6\\x81\\xe6\\x94\\xb9\\xe4\\xb8\\xbb\\xe6\\x84\\x8f\\xe4\\xba\\x86</title><link rel=\"stylesheet\" href=\"https://mbdp01.bdstatic.com/static/superlanding/css/land_min_pack_7c91461.css\"><meta itemprop=\"dateUpdate\" content=\"2021-01-30 11:10:06\" /></head><body><script >/* eslint-disable */var s_domain = {\"protocol\":\"https:\",\"staticUrl\":\"https://ss0.bdstatic.com/5aV1bjqh_Q23odCf/\",\"base\":\"\",\"baseuri\":\"\",\"passconf\":\"http://passport.baidu.com/ubrwsbas\",\"logout\":\"https://passport.baidu.com/?logout&u=\",\"bs\":\"https://www.baidu.com\",\"sp\":\"http://hi.baidu.com/\",\"ssllist\":{\"a.hiphotos.baidu.com\":\"ss0.baidu.com/94o3dSag_xI4khGko9WTAnF6hhy\",\"b.hiphotos.baidu.com\":\"ss1.baidu.com/9vo3dSag_xI4khGko9WTAnF6hhy\",\"c.hiphotos.baidu.com\":\"ss3.baidu.com/9fo3dSag_xI4khGko9WTAnF6hhy\",\"d.hiphotos.baidu.com\":\"ss0.baidu.com/-Po3dSag_xI4khGko9WTAnF6hhy\",\"e.hiphotos.baidu.com\":\"ss1.baidu.com/-4o3dSag_xI4khGko9WTAnF6hhy\",\"f.hiphotos.baidu.com\":\"ss2.baidu.com/-vo3dSag_xI4khGko9WTAnF6hhy\",\"g.hiphotos.baidu.com\":\"ss3.baidu.com/-fo3dSag_xI4khGko9WTAnF6hhy\",\"h.hiphotos.baidu.com\":\"ss0.baidu.com/7Po3dSag_xI4khGko9WTAnF6hhy\",\"1.su.bdimg.com\":\"ss0.bdstatic.com/k4oZeXSm1A5BphGlnYG\",\"t10.baidu.com\":\"ss0.baidu.com/6ONWsjip0QIZ8tyhnq\",\"t11.baidu.com\":\"ss1.baidu.com/6ONXsjip0QIZ8tyhnq\",\"t12.baidu.com\":\"ss2.baidu.com/6ONYsjip0QIZ8tyhnq\",\"himg.bdimg.com\":\"ss1.bdstatic.com/7Ls0a8Sm1A5BphGlnYG\",\"cdn00.baidu-img.cn\":\"ss0.bdstatic.com/9bA1vGba2gU2pMbfm9GUKT-w\",\"cdn01.baidu-img.cn\":\"ss0.bdstatic.com/9bA1vGfa2gU2pMbfm9GUKT-w\"}};var s_session = {\"ssid\":\"0\",\"logid\":\"\",\"sid\":\"\",\"nid\":\"9531811470811852418\",\"qid\":\"\"};var s_advert = {\"isBjh\":\"1\",\"contentUrl\":\"http://baijiahao.baidu.com/s?id=1690279582150009600\",\"contentPlatformId\":\"3\",\"contentType\":\"1\",\"pvid\":\"62e080a1ca610e8f\",\"time\":\"2021-01-30 11:56:59\",\"contentAccType\":\"1\",\"ctk\":\"62603ea7ed3b45fb\",\"contentAccId\":\"Na5fkh6YSaToSTs5lPM09A\",\"ctk_b\":\"d39f004bc1568f23\",\"logid\":\"3419449574\",\"dtime\":\"1611979019\",\"grade\":\"2\",\"createTimeAccLevel\":\"2\"};var s_comment = {\"tid\":\"1033000038724166\",\"forbidComment\":\"\"};</script><script>/* eslint-disable */var bds={se:{},su:{urdata:[],urSendClick:function(){},urStatic:\"https://ss.bdimg.com\"},util:{},use:{},comm:{domain:\"\",ubsurl:\"\",tn:\"\",queryEnc:\"\",queryId:\"\",inter:\"\",sugHost:\"\",query:\"\",qid:\"\",cid:\"\",sid:\"\",stoken:\"\",serverTime:\"\",user:\"\",username:\"\",loginAction:[],useFavo:\"\",pinyin:\"\",favoOn:\"\",curResultNum:\"0\",rightResultExist:false,protectNum:0,zxlNum:0,pageNum:1,pageSize:10,ishome:1,newindex:1}};var name,navigate,al_arr=[];var selfOpen=window.open;eval(\"var open = selfOpen;\");var isIE=navigator.userAgent.indexOf(\"MSIE\")!=-1&&!window.opera;var E=bds.ecom={};bds.se.mon={loadedItems:[],load:function(){},srvt:-1};try{bds.se.mon.srvt=parseInt(document.cookie.match(new RegExp(\"(^| )BDSVRTM=([^;]*)(;|$)\"))[2]);document.cookie=\"BDSVRTM=;expires=Sat, 01 Jan 2000 00:00:00 GMT\"}catch(e){}var bdUser=bds.comm.user?bds.comm.user:null,bdQuery=bds.comm.query,bdUseFavo=bds.comm.useFavo,bdFavoOn=bds.comm.favoOn,bdCid=bds.comm.cid,bdSid=bds.comm.sid,bdServerTime=bds.comm.serverTime,bdQid=bds.comm.queryId,bdstoken=bds.comm.stoken,login_success=[];</script><div id=\"detail-page\"><div class=\"line-shadow\"></div><div class=\"item-wrap\"><div id=\"header_wrap\" class=\"header_wrap\"><div class=\"header_content\"><div class=\"header_logo\"><a href=\"https://www.baidu.com\" id=\"result_logo\" data-clklog=\"tid:139;cst:2;logInfo:head_logo;\" data-extralog=\"rid:;pos:;extra:;isBaiJiaHao:1;login:0;\" data-rid=\"head_0\"><img src=\"https://ss0.bdstatic.com/5aV1bjqh_Q23odCf/static/superlanding/img/logo_top.png\" alt=\"\\xe5\\x88\\xb0\\xe7\\x99\\xbe\\xe5\\xba\\xa6\\xe9\\xa6\\x96\\xe9\\xa1\\xb5\" title=\"\\xe5\\x88\\xb0\\xe7\\x99\\xbe\\xe5\\xba\\xa6\\xe9\\xa6\\x96\\xe9\\xa1\\xb5\"></a></div><div class=\"header_menu\" data-rid=\"header_menu\"><a href=\"https://www.baidu.com\" class=\"index\" data-clklog=\"tid:142;cst:2;logInfo:head_menu\" data-extralog=\"rid:;pos:;extra:;isBaiJiaHao:1;login:0;type:backindex\" data-rid=\"head_1\">\\xe7\\x99\\xbe\\xe5\\xba\\xa6\\xe9\\xa6\\x96\\xe9\\xa1\\xb5</a><span class=\"line\"></span><div id=\"userBlock\"><a href=\"https://passport.baidu.com/v2/?login&tpl=mn&u=http://www.baidu.com\" class=\"login\" data-clklog=\"tid:142;cst:2;logInfo:head_menu;\" data-extralog=\"rid:;pos:;extra:;isBaiJiaHao:1;login:0;type:login\" data-rid=\"head_2\">\\xe7\\x99\\xbb\\xe5\\xbd\\x95</a><a href=\"http://i.baidu.com/\" id=\"usrname\" class=\"usrname\" data-clklog=\"tid:142;cst:2;logInfo:head_menu;\" data-extralog=\"rid:;pos:;extra:;isBaiJiaHao:1;login:0;type:usrname;\" data-rid=\"head_2\"><span id=\"nametxt\"></span><div id=\"user_menu\" data-showlog=\"tid:131;cst:1;logInfo:usrmenu;\" data-extralog=\"rid:;pos:;extra:;isBaiJiaHao:1;login:0;\" class=\"s-isindex-wrap s-user-set-menu menu-top\" style=\"display: none;\"><div><a href=\"http://i.baidu.com/center\" target=\"_blank\" data-tid=\"1000\" data-clklog=\"tid:146;cst:2;logInfo:usrmenu;\" data-extralog=\"rid:;pos:1;extra:;isBaiJiaHao:1;login:0;type:center;\" data-rid=\"usr_menu_1\">\\xe4\\xb8\\xaa\\xe4\\xba\\xba\\xe4\\xb8\\xad\\xe5\\xbf\\x83</a><a href=\"http://passport.baidu.com/\" data-tid=\"1001\" target=\"_blank\" data-clklog=\"tid:146;cst:2;logInfo:usrmenu;\" data-extralog=\"rid:;pos:2;extra:;isBaiJiaHao:1;login:0;type:passport;\" data-rid=\"usr_menu_2\">\\xe5\\xb8\\x90\\xe5\\x8f\\xb7\\xe8\\xae\\xbe\\xe7\\xbd\\xae</a><a class=\"s-feedback\" style=\"overflow:hidden\" href=\"#\" onclick=\"return false;\" data-clklog=\"tid:146;cst:2;logInfo:usrmenu;\" data-extralog=\"rid:;pos:3;extra:;isBaiJiaHao:1;login:0;type:feedback;\" data-rid=\"header_menu_3\">\\xe6\\x84\\x8f\\xe8\\xa7\\x81\\xe5\\x8f\\x8d\\xe9\\xa6\\x88</a><a class=\"quit\" style=\"overflow:hidden\" href=\"https://passport.baidu.com/?logout&u=https://www.baidu.com\" data-clklog=\"tid:146;cst:2;logInfo:usrmenu;\" data-extralog=\"rid:;pos:4;extra:;isBaiJiaHao:1;login:0;type:quit;\" data-rid=\"usr_menu_4\">\\xe9\\x80\\x80\\xe5\\x87\\xba</a></div><span class=\"menu-arrow\"><em></em></span></div></div></div></div></div></div><div class=\"title_border\"><div class=\"anci_header_content\"><div class=\"article-title\"><h2>\\xe5\\xa4\\x96\\xe5\\xaa\\x92\\xef\\xbc\\x9a\\xe7\\x89\\xb9\\xe6\\x9c\\x97\\xe6\\x99\\xae\\xe7\\xad\\xbe\\xe7\\x9a\\x84\\xe4\\xb8\\xad\\xe7\\xbe\\x8e\\xe7\\xbb\\x8f\\xe8\\xb4\\xb8\\xe5\\x8d\\x8f\\xe8\\xae\\xae\\xef\\xbc\\x8c\\xe6\\x8b\\x9c\\xe7\\x99\\xbb\\xe5\\x8f\\xaf\\xe8\\x83\\xbd\\xe8\\xa6\\x81\\xe6\\x94\\xb9\\xe4\\xb8\\xbb\\xe6\\x84\\x8f\\xe4\\xba\\x86</h2></div><div class=\"article-desc clearfix\"><div class=\"author-icon\"><a href=\"https://author.baidu.com/home?from=bjh_article&amp;app_id=1636203306265037\" target=\"_blank\"><img src=\"https://pic.rmb.bdstatic.com/10c0099fe5c2ef55fbd758a03a6ecafa.jpeg@c_1,w_300,h_300,x_0,y_0\"></a><i class=\"author-vip author-vip-2\"></i></div><div class=\"author-txt\"><div class=\"author-name\"><a href=\"https://author.baidu.com/home?from=bjh_article&amp;app_id=1636203306265037\" target=\"_blank\">\\xe9\\x9d\\x92\\xe7\\x9e\\xb3\\xe8\\xa7\\x86\\xe8\\xa7\\x92</a></div><div class=\"article-source article-source-bjh\"><span class=\"date\">\\xe5\\x8f\\x91\\xe5\\xb8\\x83\\xe6\\x97\\xb6\\xe9\\x97\\xb4\\xef\\xbc\\x9a01-30</span><span class=\"time\">11:10</span><span class=\"account-authentication\">\\xe5\\x8c\\x97\\xe4\\xba\\xac\\xe9\\x9d\\x92\\xe5\\xb9\\xb4\\xe6\\x8a\\xa5\\xe5\\x8c\\x97\\xe9\\x9d\\x92\\xe7\\xbd\\x91\\xe5\\xae\\x98\\xe6\\x96\\xb9\\xe5\\xb8\\x90\\xe5\\x8f\\xb7</span></div></div></div></div></div><div id=\"content-container\" class=\"content-container clearfix\" data-showlog=\"tid:126;cst:1;logInfo:landing;\" data-extralog=\"flow:2;st:news;rid:9531811470811852418;pos:0;extra:;source:1;isBaijiahao:1;login:0;appId:1636203306265037;\" data-ratio=\"1\" data-rid=\"page\"><div id=\"left-container\" class=\"left-container\"><div class=\"item-wrap\"><div class=\"article \" id=\"article\" data-islow-browser=\"0\"><div class=\"article-content\"><p><span class=\"bjh-p\">\\xe6\\x8d\\xae\\xe8\\xb7\\xaf\\xe9\\x80\\x8f\\xe7\\xa4\\xbe\\xe5\\x8d\\x8e\\xe7\\x9b\\x9b\\xe9\\xa1\\xbf\\xe6\\xb6\\x88\\xe6\\x81\\xaf\\xef\\xbc\\x8c\\xe5\\xbd\\x93\\xe5\\x9c\\xb0\\xe6\\x97\\xb6\\xe9\\x97\\xb429\\xe6\\x97\\xa5\\xef\\xbc\\x8c\\xe7\\xbe\\x8e\\xe5\\x9b\\xbd\\xe6\\x8b\\x9c\\xe7\\x99\\xbb\\xe6\\x94\\xbf\\xe5\\xba\\x9c\\xe5\\xb0\\x86\\xe9\\x87\\x8d\\xe6\\x96\\xb0\\xe8\\xaf\\x84\\xe4\\xbc\\xb0\\xe5\\x89\\x8d\\xe6\\x80\\xbb\\xe7\\xbb\\x9f\\xe7\\x89\\xb9\\xe6\\x9c\\x97\\xe6\\x99\\xae\\xe6\\x97\\xb6\\xe6\\x9c\\x9f\\xe7\\x9a\\x84\\xe5\\x9b\\xbd\\xe5\\xae\\xb6\\xe5\\xae\\x89\\xe5\\x85\\xa8\\xe6\\x8e\\xaa\\xe6\\x96\\xbd\\xef\\xbc\\x8c\\xe5\\x85\\xb6\\xe4\\xb8\\xad\\xe5\\x8c\\x85\\xe6\\x8b\\xac\\xe4\\xb8\\xad\\xe7\\xbe\\x8e\\xe7\\xac\\xac\\xe4\\xb8\\x80\\xe9\\x98\\xb6\\xe6\\xae\\xb5\\xe7\\xbb\\x8f\\xe8\\xb4\\xb8\\xe5\\x8d\\x8f\\xe8\\xae\\xae\\xe3\\x80\\x82</span></p><p><span class=\"bjh-p\">\\xe6\\x8a\\xa5\\xe9\\x81\\x93\\xe7\\xa7\\xb0\\xef\\xbc\\x8c\\xe9\\x92\\x88\\xe5\\xaf\\xb9\\xe5\\x85\\xb3\\xe4\\xba\\x8e\\xe4\\xb8\\xad\\xe7\\xbe\\x8e\\xe7\\xac\\xac\\xe4\\xb8\\x80\\xe9\\x98\\xb6\\xe6\\xae\\xb5\\xe7\\xbb\\x8f\\xe8\\xb4\\xb8\\xe5\\x8d\\x8f\\xe8\\xae\\xae\\xe6\\x98\\xaf\\xe5\\x90\\xa6\\xe8\\xbf\\x98\\xe6\\x9c\\x89\\xe6\\x95\\x88\\xe7\\x9a\\x84\\xe6\\x8f\\x90\\xe9\\x97\\xae\\xef\\xbc\\x8c\\xe7\\xbe\\x8e\\xe5\\x9b\\xbd\\xe7\\x99\\xbd\\xe5\\xae\\xab\\xe6\\x96\\xb0\\xe9\\x97\\xbb\\xe7\\xa7\\x98\\xe4\\xb9\\xa6\\xe7\\x8f\\x8d\\xc2\\xb7\\xe6\\x99\\xae\\xe8\\x90\\xa8\\xe5\\x9f\\xba\\xe5\\xbd\\x93\\xe5\\x9c\\xb0\\xe6\\x97\\xb6\\xe9\\x97\\xb429\\xe6\\x97\\xa5\\xe5\\x9c\\xa8\\xe7\\x99\\xbd\\xe5\\xae\\xab\\xe4\\xbe\\x8b\\xe8\\xa1\\x8c\\xe8\\xae\\xb0\\xe8\\x80\\x85\\xe4\\xbc\\x9a\\xe4\\xb8\\x8a\\xe8\\xaf\\xb4\\xef\\xbc\\x9a\\xe2\\x80\\x9c\\xe5\\x89\\x8d\\xe4\\xbb\\xbb\\xe6\\x94\\xbf\\xe5\\xba\\x9c\\xe5\\x87\\xba\\xe5\\x8f\\xb0\\xe7\\x9a\\x84\\xe6\\x89\\x80\\xe6\\x9c\\x89\\xe5\\x85\\xb3\\xe7\\xb3\\xbb\\xe5\\x9b\\xbd\\xe5\\xae\\xb6\\xe5\\xae\\x89\\xe5\\x85\\xa8\\xe7\\x9a\\x84\\xe6\\x8e\\xaa\\xe6\\x96\\xbd\\xe9\\x83\\xbd\\xe8\\xa6\\x81\\xe9\\x87\\x8d\\xe6\\x96\\xb0\\xe8\\xaf\\x84\\xe4\\xbc\\xb0\\xef\\xbc\\x8c\\xe4\\xb8\\x8d\\xe8\\xa6\\x81\\xe6\\x83\\xb3\\xe5\\xbd\\x93\\xe7\\x84\\xb6\\xe5\\x9c\\xb0\\xe8\\xae\\xa4\\xe4\\xb8\\xba\\xe4\\xbc\\x9a\\xe7\\xbb\\xa7\\xe7\\xbb\\xad\\xe6\\x8e\\xa8\\xe8\\xbf\\x9b\\xe2\\x80\\x9d\\xe3\\x80\\x82</span></p><p><span class=\"bjh-p\">\\xe6\\x8d\\xae\\xe6\\x8a\\xa5\\xe9\\x81\\x93\\xef\\xbc\\x8c\\xe6\\x99\\xae\\xe8\\x90\\xa8\\xe5\\x9f\\xba\\xe8\\xa1\\xa8\\xe7\\xa4\\xba\\xe6\\x8b\\x9c\\xe7\\x99\\xbb\\xe6\\x94\\xbf\\xe5\\xba\\x9c\\xe4\\xbc\\x9a\\xe4\\xb8\\x93\\xe6\\xb3\\xa8\\xe4\\xba\\x8e\\xe5\\x9c\\xa8\\xe5\\xbc\\xba\\xe6\\x9c\\x89\\xe5\\x8a\\x9b\\xe7\\x9a\\x84\\xe4\\xbd\\x8d\\xe7\\xbd\\xae\\xe4\\xb8\\x8a\\xe5\\xa4\\x84\\xe7\\x90\\x86\\xe4\\xb8\\xad\\xe7\\xbe\\x8e\\xe5\\x85\\xb3\\xe7\\xb3\\xbb\\xef\\xbc\\x8c\\xe8\\xbf\\x99\\xe6\\x84\\x8f\\xe5\\x91\\xb3\\xe7\\x9d\\x80\\xe7\\xbe\\x8e\\xe5\\x9b\\xbd\\xe8\\xa6\\x81\\xe2\\x80\\x9c\\xe4\\xb8\\x8e\\xe6\\x88\\x91\\xe4\\xbb\\xac\\xe7\\x9a\\x84\\xe7\\x9b\\x9f\\xe5\\x9b\\xbd\\xe5\\x92\\x8c\\xe4\\xbc\\x99\\xe4\\xbc\\xb4\\xe4\\xbb\\xac\\xe5\\xb0\\xb1\\xe5\\xa6\\x82\\xe4\\xbd\\x95\\xe4\\xb8\\x8e\\xe4\\xb8\\xad\\xe5\\x9b\\xbd\\xe6\\x89\\x93\\xe4\\xba\\xa4\\xe9\\x81\\x93\\xe8\\xbf\\x9b\\xe8\\xa1\\x8c\\xe5\\x8d\\x8f\\xe8\\xb0\\x83\\xe5\\x92\\x8c\\xe6\\xb2\\x9f\\xe9\\x80\\x9a\\xe2\\x80\\x9d\\xe3\\x80\\x82</span></p><p><span class=\"bjh-p\">\\xe6\\x8a\\xa5\\xe9\\x81\\x93\\xe6\\x8f\\xb4\\xe5\\xbc\\x95\\xe7\\xbe\\x8e\\xe5\\x9b\\xbd\\xe6\\x94\\xbf\\xe5\\xba\\x9c\\xe6\\xb6\\x88\\xe6\\x81\\xaf\\xe4\\xba\\xba\\xe5\\xa3\\xab\\xe7\\x9a\\x84\\xe8\\xaf\\x9d\\xe7\\xa7\\xb0\\xef\\xbc\\x8c\\xe6\\x8b\\x9c\\xe7\\x99\\xbb\\xe6\\x94\\xbf\\xe5\\xba\\x9c\\xe5\\x9c\\xa8\\xe8\\xaf\\x84\\xe4\\xbc\\xb0\\xe6\\x9c\\x9f\\xe9\\x97\\xb4\\xe4\\xbc\\x9a\\xe6\\x9a\\x82\\xe5\\x81\\x9c\\xe5\\xae\\x9e\\xe6\\x96\\xbd\\xe7\\xbe\\x8e\\xe5\\x9b\\xbd\\xe5\\xaf\\xb93700\\xe4\\xba\\xbf\\xe7\\xbe\\x8e\\xe5\\x85\\x83\\xe4\\xb8\\xad\\xe5\\x9b\\xbd\\xe5\\x95\\x86\\xe5\\x93\\x81\\xe5\\x8a\\xa0\\xe5\\xbe\\x81\\xe5\\x85\\xb3\\xe7\\xa8\\x8e\\xe7\\x9a\\x84\\xe6\\x8e\\xaa\\xe6\\x96\\xbd\\xef\\xbc\\x8c\\xe7\\x9b\\xb4\\xe5\\x88\\xb0\\xe5\\x85\\xa8\\xe9\\x9d\\xa2\\xe8\\xaf\\x84\\xe4\\xbc\\xb0\\xe5\\xae\\x8c\\xe6\\x88\\x90\\xe3\\x80\\x81\\xe7\\xbe\\x8e\\xe5\\x9b\\xbd\\xe6\\x89\\xbe\\xe5\\x87\\xba\\xe4\\xb8\\x8e\\xe5\\x85\\xb6\\xe4\\xbb\\x96\\xe5\\x9b\\xbd\\xe5\\xae\\xb6\\xe8\\x81\\x94\\xe5\\x90\\x88\\xe5\\xaf\\xb9\\xe5\\x8d\\x8e\\xe7\\x9a\\x84\\xe6\\x9c\\x80\\xe4\\xbd\\xb3\\xe5\\x8a\\x9e\\xe6\\xb3\\x95\\xe5\\x90\\x8e\\xef\\xbc\\x8c\\xe5\\x86\\x8d\\xe5\\x86\\xb3\\xe5\\xae\\x9a\\xe5\\x81\\x9a\\xe5\\x87\\xba\\xe5\\x93\\xaa\\xe4\\xba\\x9b\\xe6\\x94\\xb9\\xe5\\x8f\\x98\\xe3\\x80\\x82\\xef\\xbc\\x88\\xe7\\xbc\\x96\\xe8\\xaf\\x91 \\xe6\\x88\\xb4\\xe6\\x99\\x93\\xe5\\xb3\\xa5\\xef\\xbc\\x89</span></p><p><span class=\"bjh-p\">\\xe7\\xbc\\x96\\xe8\\xbe\\x91/\\xe7\\x86\\x8a\\xe9\\xa2\\x96\\xe7\\x90\\xaa</span></p></div><audio height=\"0\" width=\"0\" id=\"musicAudio\" data-play-index><source></source></audio></div></div><div class=\"item-wrap clearfix\"><button class=\"report-container\" id=\"feedback_report(215939)\">\\xe4\\xb8\\xbe\\xe6\\x8a\\xa5/\\xe5\\x8f\\x8d\\xe9\\xa6\\x88</button></div><div id=\"commentModule\"></div></div><div id=\"right-container\" class=\"right-container\"><div class=\"item-wrap\"><div class=\"recent-article\" data-pos=\"\"><h2>\\xe4\\xbd\\x9c\\xe8\\x80\\x85\\xe6\\x9c\\x80\\xe6\\x96\\xb0\\xe6\\x96\\x87\\xe7\\xab\\xa0</h><ul><li data-showlog=\"tid:135;cst:1;logInfo:recent_article;\" data-extralog=\"rid:;pos:0;extra:;isBaiJiaHao:1;login:0;\"  data-rid=\"recent_article_0\"><h3 class=\"item-title\"><a href=\"https://mbd.baidu.com/newspage/data/landingsuper?context=%7B%22nid%22%3A%22news_10364630811215664320%22%7D&amp;n_type=1&amp;p_from=3\" data-clklog=\"tid:147;cst:2;logInfo:recent_article;\" data-extralog=\"rid:;pos:0;extra:;isBaiJiaHao:1;login:0;\" target=\"_blank\">\\xe5\\xbe\\xb7\\xe5\\x9b\\xbd\\xe5\\xb7\\xb2\\xe7\\xa1\\xae\\xe8\\xaf\\x8a150\\xe4\\xbe\\x8b\\xe6\\x84\\x9f\\xe6\\x9f\\x93\\xe5\\x8f\\x98\\xe5\\xbc\\x82\\xe6\\xaf\\x92\\xe6\\xa0\\xaa\\xe7\\x97\\x85\\xe4\\xbe\\x8b \\xe5\\xb0\\x86\\xe5\\xaf\\xb9\\xe7\\x96\\xab\\xe6\\x83\\x85\\xe4\\xb8\\xa5\\xe9\\x87\\x8d\\xe5\\x9b\\xbd\\xe5\\xae\\xb6\\xe5\\xae\\x9e\\xe6\\x96\\xbd\\xe5\\x85\\xa5\\xe5\\xa2\\x83\\xe9\\x99\\x90\\xe5\\x88\\xb6</a></h3><div class=\"item-desc hide\"><span class=\"info-date\">01-30</span><span class=\"info-time\">11:10</span></div></li><li data-showlog=\"tid:135;cst:1;logInfo:recent_article;\" data-extralog=\"rid:;pos:1;extra:;isBaiJiaHao:1;login:0;\"  data-rid=\"recent_article_1\"><h3 class=\"item-title\"><a href=\"https://mbd.baidu.com/newspage/data/landingsuper?context=%7B%22nid%22%3A%22news_10271780138039374383%22%7D&amp;n_type=1&amp;p_from=3\" data-clklog=\"tid:147;cst:2;logInfo:recent_article;\" data-extralog=\"rid:;pos:1;extra:;isBaiJiaHao:1;login:0;\" target=\"_blank\">\\xe8\\xad\\xa6\\xe6\\x8e\\xa2\\xe5\\x8f\\xb7\\xef\\xbd\\x9c\\xe5\\x9b\\xa2\\xe4\\xbc\\x99\\xe4\\xb8\\x93\\xe7\\x9b\\xaf\\xe5\\xb0\\x8f\\xe5\\x8c\\xba\\xe5\\x9c\\xb0\\xe4\\xb8\\x8b\\xe5\\xae\\xa4 \\xe6\\x8a\\x80\\xe6\\x9c\\xaf\\xe5\\xbc\\x80\\xe9\\x94\\x81\\xe5\\x81\\xb7\\xe7\\x9a\\x84\\xe9\\x83\\xbd\\xe6\\x98\\xaf\\xe9\\xab\\x98\\xe6\\xa1\\xa3\\xe7\\x99\\xbd\\xe9\\x85\\x92</a></h3><div class=\"item-desc hide\"><span class=\"info-date\">01-30</span><span class=\"info-time\">11:10</span></div></li><li data-showlog=\"tid:135;cst:1;logInfo:recent_article;\" data-extralog=\"rid:;pos:2;extra:;isBaiJiaHao:1;login:0;\"  data-rid=\"recent_article_2\"><h3 class=\"item-title\"><a href=\"https://mbd.baidu.com/newspage/data/landingsuper?context=%7B%22nid%22%3A%22news_9811197521646386050%22%7D&amp;n_type=1&amp;p_from=3\" data-clklog=\"tid:147;cst:2;logInfo:recent_article;\" data-extralog=\"rid:;pos:2;extra:;isBaiJiaHao:1;login:0;\" target=\"_blank\">\\xe7\\x96\\xab\\xe6\\x83\\x85\\xe5\\xaf\\xbc\\xe8\\x87\\xb4\\xe4\\xb9\\x98\\xe5\\xae\\xa2\\xe9\\x94\\x90\\xe5\\x87\\x8f \\xe8\\x83\\x9c\\xe5\\xae\\x89\\xe8\\x88\\xaa\\xe7\\xa9\\xba\\xe5\\xb0\\x86\\xe5\\xb9\\xb6\\xe5\\x85\\xa5\\xe6\\x96\\xb0\\xe5\\x8a\\xa0\\xe5\\x9d\\xa1\\xe8\\x88\\xaa\\xe7\\xa9\\xba\\xe5\\x85\\xac\\xe5\\x8f\\xb8</a></h3><div class=\"item-desc hide\"><span class=\"info-date\">01-30</span><span class=\"info-time\">11:05</span></div></li></ul></div></div><div class=\"item-wrap\"><div class=\"related-news\"><div class=\"news-content \"><h2>\\xe7\\x9b\\xb8\\xe5\\x85\\xb3\\xe6\\x96\\x87\\xe7\\xab\\xa0</h2><ul><li data-showlog=\"tid:136;cst:1;logInfo:related_news;\" data-extralog=\"flow:2;rid:;pos:0;extra:;isBaiJiaHao:1;login:0;\"  data-rid=\"related_news_0\"><div class=\"item-content clearfix\"><div class=\"news-info\"><div class=\"news-title\"><h3><a class=\"upgrade\" data-clklog=\"tid:148;cst:2;logInfo:related_news;\" data-extralog=\"rid:;pos:0;extra:;isBaiJiaHao:1;login:0;type:\\'title\\'\"  href=\"https://mbd.baidu.com/newspage/data/landingsuper?context=%7B%22nid%22%3A%22news_8952320511800217819%22%7D&amp;n_type=1&amp;p_from=4\" target=\"_blank\">\\xe4\\xb8\\xad\\xe7\\xbe\\x8e\\xe9\\x9a\\xbe\\xe4\\xbb\\xa5\\xe8\\xbf\\x8e\\xe6\\x9d\\xa5\\xe8\\xbd\\xac\\xe6\\x9c\\xba\\xef\\xbc\\x9f\\xe6\\x96\\xb0\\xe4\\xbb\\xbb\\xe5\\x9b\\xbd\\xe5\\x8a\\xa1\\xe5\\x8d\\xbf\\xe6\\x94\\xb9\\xe5\\x8f\\xa3\\xe6\\x94\\xaf\\xe6\\x8c\\x81\\xe7\\x89\\xb9\\xe6\\x9c\\x97\\xe6\\x99\\xae\\xef\\xbc\\x9a\\xe5\\xaf\\xb9\\xe5\\x8d\\x8e\\xe5\\xbc\\xba\\xe7\\xa1\\xac\\xe6\\x98\\xaf\\xe5\\xaf\\xb9\\xe7\\x9a\\x84</a></h3></div></div><div class=\"news-pic\"><a class=\"upgrade\" data-clklog=\"tid:148;cst:2;logInfo:related_news;\" data-extralog=\"rid:;pos:1;extra:;isBaiJiaHao:1;login:0;type:\\'img\\'\" href=\"https://mbd.baidu.com/newspage/data/landingsuper?context=%7B%22nid%22%3A%22news_8952320511800217819%22%7D&amp;n_type=1&amp;p_from=4\" target=\"_blank\"><img src=\"https://t12.baidu.com/it/u=1559255549,2337766540&amp;fm=173&amp;app=49&amp;f=JPEG?w=312&amp;h=208&amp;s=8B31E304C0323F869FA855BB0300C094\"></a></div></div></li><li data-showlog=\"tid:136;cst:1;logInfo:related_news;\" data-extralog=\"flow:2;rid:;pos:1;extra:;isBaiJiaHao:1;login:0;\"  data-rid=\"related_news_1\"><div class=\"item-content clearfix\"><div class=\"news-info\"><div class=\"news-title\"><h3><a class=\"upgrade\" data-clklog=\"tid:148;cst:2;logInfo:related_news;\" data-extralog=\"rid:;pos:1;extra:;isBaiJiaHao:1;login:0;type:\\'title\\'\"  href=\"https://mbd.baidu.com/newspage/data/landingsuper?context=%7B%22nid%22%3A%22news_9778009360100049082%22%7D&amp;n_type=1&amp;p_from=4\" target=\"_blank\">\\xe6\\x8b\\x9c\\xe7\\x99\\xbb\\xe6\\x94\\xbf\\xe5\\xba\\x9c\\xe5\\x81\\x9c\\xe6\\xad\\xa2\\xe5\\xa4\\x9a\\xe9\\xa1\\xb9\\xe5\\xaf\\xb9\\xe5\\xa4\\x96\\xe5\\x86\\x9b\\xe5\\x94\\xae\\xe6\\xa1\\x88 \\xe5\\x8f\\xb0\\xe5\\xa4\\x96\\xe4\\xba\\x8b\\xe9\\x83\\xa8\\xe9\\x97\\xa8\\xe7\\xa7\\xb0\\xe5\\x8f\\xb0\\xe6\\xb9\\xbe\\xe4\\xb8\\x8d\\xe5\\x9c\\xa8\\xe5\\x90\\x8d\\xe5\\x8d\\x95\\xe4\\xb8\\xad</a></h3></div></div><div class=\"news-pic\"><a class=\"upgrade\" data-clklog=\"tid:148;cst:2;logInfo:related_news;\" data-extralog=\"rid:;pos:2;extra:;isBaiJiaHao:1;login:0;type:\\'img\\'\" href=\"https://mbd.baidu.com/newspage/data/landingsuper?context=%7B%22nid%22%3A%22news_9778009360100049082%22%7D&amp;n_type=1&amp;p_from=4\" target=\"_blank\"><img src=\"https://t10.baidu.com/it/u=3225120063,557099793&amp;fm=173&amp;app=49&amp;f=JPEG?w=312&amp;h=208&amp;s=5D5050865C52BAD4387F8D910300D08B\"></a></div></div></li><li data-showlog=\"tid:136;cst:1;logInfo:related_news;\" data-extralog=\"flow:2;rid:;pos:2;extra:;isBaiJiaHao:1;login:0;\"  data-rid=\"related_news_2\"><div class=\"item-content clearfix\"><div class=\"news-info\"><div class=\"news-title\"><h3><a class=\"upgrade\" data-clklog=\"tid:148;cst:2;logInfo:related_news;\" data-extralog=\"rid:;pos:2;extra:;isBaiJiaHao:1;login:0;type:\\'title\\'\"  href=\"https://mbd.baidu.com/newspage/data/landingsuper?context=%7B%22nid%22%3A%22news_9265298764249675227%22%7D&amp;n_type=1&amp;p_from=4\" target=\"_blank\">\\xe5\\xbc\\x80\\xe5\\xa7\\x8b\\xe4\\xba\\x86\\xef\\xbc\\x81\\xe7\\xbe\\x8e\\xe5\\x9b\\xbd\\xe5\\x8a\\xa1\\xe5\\x8d\\xbf\\xe5\\xb8\\x83\\xe6\\x9e\\x97\\xe8\\x82\\xaf\\xe4\\xb8\\x8e\\xe6\\xb3\\x95\\xe5\\xbe\\xb7\\xe8\\x8f\\xb2\\xe5\\xa4\\x96\\xe9\\x95\\xbf\\xe9\\x80\\x9a\\xe7\\x94\\xb5\\xe8\\xaf\\x9d\\xef\\xbc\\x8c\\xe9\\x80\\x9a\\xe9\\x80\\x9a\\xe7\\x94\\xb5\\xe8\\xaf\\x9d\\xe9\\x83\\xbd\\xe6\\x8f\\x90\\xe4\\xb8\\xad\\xe5\\x9b\\xbd</a></h3></div></div><div class=\"news-pic\"><a class=\"upgrade\" data-clklog=\"tid:148;cst:2;logInfo:related_news;\" data-extralog=\"rid:;pos:3;extra:;isBaiJiaHao:1;login:0;type:\\'img\\'\" href=\"https://mbd.baidu.com/newspage/data/landingsuper?context=%7B%22nid%22%3A%22news_9265298764249675227%22%7D&amp;n_type=1&amp;p_from=4\" target=\"_blank\"><img src=\"https://t12.baidu.com/it/u=3077235326,3435800194&amp;fm=173&amp;app=49&amp;f=JPEG?w=312&amp;h=208&amp;s=F52AB0540263051154B8548B0300F09C\"></a></div></div></li><li data-showlog=\"tid:136;cst:1;logInfo:related_news;\" data-extralog=\"flow:2;rid:;pos:3;extra:;isBaiJiaHao:1;login:0;\"  data-rid=\"related_news_3\"><div class=\"item-content clearfix\"><div class=\"news-info\"><div class=\"news-title\"><h3><a class=\"upgrade\" data-clklog=\"tid:148;cst:2;logInfo:related_news;\" data-extralog=\"rid:;pos:3;extra:;isBaiJiaHao:1;login:0;type:\\'title\\'\"  href=\"https://mbd.baidu.com/newspage/data/landingsuper?context=%7B%22nid%22%3A%22news_9433872945096550512%22%7D&amp;n_type=1&amp;p_from=4\" target=\"_blank\">\\xe4\\xb8\\x9c\\xe6\\x96\\xb9\\xe6\\x99\\xba\\xe5\\xba\\x93\\xe4\\xb8\\xa8\\xe7\\x99\\xbd\\xe5\\xae\\xab\\xe5\\x8d\\x81\\xe6\\x97\\xa5\\xe8\\xb0\\x88\\xef\\xbc\\x9a\\xe6\\x8b\\x9c\\xe7\\x99\\xbb\\xe7\\x9a\\x84\\xe5\\x8d\\x81\\xe4\\xbb\\xb6\\xe4\\xba\\x8b</a></h3></div></div><div class=\"news-pic\"><a class=\"upgrade\" data-clklog=\"tid:148;cst:2;logInfo:related_news;\" data-extralog=\"rid:;pos:4;extra:;isBaiJiaHao:1;login:0;type:\\'img\\'\" href=\"https://mbd.baidu.com/newspage/data/landingsuper?context=%7B%22nid%22%3A%22news_9433872945096550512%22%7D&amp;n_type=1&amp;p_from=4\" target=\"_blank\"><img src=\"https://t10.baidu.com/it/u=708616737,1910411398&amp;fm=173&amp;app=49&amp;f=JPEG?w=312&amp;h=208&amp;s=ABC5F8042A5321DE1EBD1B930300C08E\"></a></div></div></li><li data-showlog=\"tid:136;cst:1;logInfo:related_news;\" data-extralog=\"flow:2;rid:;pos:4;extra:;isBaiJiaHao:1;login:0;\"  data-rid=\"related_news_4\"><div class=\"item-content clearfix\"><div class=\"news-info\"><div class=\"news-title\"><h3><a class=\"upgrade\" data-clklog=\"tid:148;cst:2;logInfo:related_news;\" data-extralog=\"rid:;pos:4;extra:;isBaiJiaHao:1;login:0;type:\\'title\\'\"  href=\"https://mbd.baidu.com/newspage/data/landingsuper?context=%7B%22nid%22%3A%22news_10229054958742686956%22%7D&amp;n_type=1&amp;p_from=4\" target=\"_blank\">\\xe6\\xb3\\xa8\\xe6\\x84\\x8f\\xef\\xbc\\x81\\xe4\\xbb\\xa5\\xe5\\x90\\x8e\\xe4\\xb8\\x8d\\xe8\\xa6\\x81\\xe8\\xbd\\xbb\\xe6\\x98\\x93\\xe9\\x97\\xae\\xe4\\xb8\\x80\\xe4\\xb8\\xaa\\xe7\\xbe\\x8e\\xe5\\x9b\\xbd\\xe4\\xba\\xba\\xe6\\x98\\xaf\\xe7\\x94\\xb7\\xe8\\xbf\\x98\\xe6\\x98\\xaf\\xe5\\xa5\\xb3\\xef\\xbc\\x81</a></h3></div></div><div class=\"news-pic\"><a class=\"upgrade\" data-clklog=\"tid:148;cst:2;logInfo:related_news;\" data-extralog=\"rid:;pos:5;extra:;isBaiJiaHao:1;login:0;type:\\'img\\'\" href=\"https://mbd.baidu.com/newspage/data/landingsuper?context=%7B%22nid%22%3A%22news_10229054958742686956%22%7D&amp;n_type=1&amp;p_from=4\" target=\"_blank\"><img src=\"https://t10.baidu.com/it/u=440748546,3877954878&amp;fm=173&amp;app=49&amp;f=JPEG?w=312&amp;h=208&amp;s=BA9200CF66037B55723294B30300F011\"></a></div></div></li></ul></div></div><div id=\"relateAd\" ad-id=\"relate-js\" class=\"wangmeng-ad\" data-showlog=\"tid:369;cst:1;logInfo:adsjs;\" data-clklog=\"tid:370;cst:2;logInfo:adsjs;\" data-extralog=\"rid:;pos:5;extra:;baijiahao:1;login:0;\"></div></div></div></div><div id=\"bottom-container\" class=\"bottom-container \"><div class=\"copy-right\"><div class=\"baidu-info\"><a class=\"sethome\" href=\"//www.baidu.com/cache/sethelp/index.html\" target=\"_blank\"><span>\\xe8\\xae\\xbe\\xe4\\xb8\\xba\\xe9\\xa6\\x96\\xe9\\xa1\\xb5</span></a><span class=\"copyright-text\"><span>&#169;&nbsp;Baidu&nbsp;</span><a href=\"//www.baidu.com/duty/\" target=\"_blank\">\\xe4\\xbd\\xbf\\xe7\\x94\\xa8\\xe7\\x99\\xbe\\xe5\\xba\\xa6\\xe5\\x89\\x8d\\xe5\\xbf\\x85\\xe8\\xaf\\xbb</a>&nbsp;<a href=\"http://jianyi.baidu.com\" target=\"_blank\">\\xe6\\x84\\x8f\\xe8\\xa7\\x81\\xe5\\x8f\\x8d\\xe9\\xa6\\x88</a>&nbsp;<span>\\xe4\\xba\\xacICP\\xe8\\xaf\\x81030173\\xe5\\x8f\\xb7&nbsp;</span><img width=13 height=16 src=\"https://ss0.bdstatic.com/5aV1bjqh_Q23odCf/static/superman/img/copy_rignt_24.png\" /></span></div><div class=\"recordcode\"><a href=\"http://www.beian.gov.cn/portal/registerSystemInfo?recordcode=11000002000001\"  target=\"_blank\"><i></i>\\xe4\\xba\\xac\\xe5\\x85\\xac\\xe7\\xbd\\x91\\xe5\\xae\\x89\\xe5\\xa4\\x8711000002000001\\xe5\\x8f\\xb7</a></div></div><div class=\"back-to-top\" data-showlog=\"tid:133;cst:1;logInfo:back_to_top;\" data-clklog=\"tid:138;cst:2;logInfo:back_to_top;\" data-extralog=\"rid:;pos:;extra:;isBaiJiaHao:1;login:0;\" data-rid=\"back_to_top\"><div class=\"icon-text\"><span>\\xe8\\xbf\\x94\\xe5\\x9b\\x9e\\xe9\\xa1\\xb6\\xe9\\x83\\xa8</span></div><div class=\"icon-arrow\"><span></span></div></div></div></div><script type=\"text/javascript\">window.onload = function () {var contentContainer = document.getElementById(\\'content-container\\');var bottomContainer = document.getElementById(\\'bottom-container\\');var rightContainer = document.getElementById(\\'right-container\\');var minContentHeight = window.innerHeight - bottomContainer.offsetHeight;if (contentContainer.offsetHeight < minContentHeight) {contentContainer.style.height = minContentHeight + \\'px\\';bottomContainer.className += \\' fixed\\';}if (rightContainer.children.length === 0) {rightContainer.style.width = parseInt(rightContainer.offsetWidth + 1, 10) + \\'px\\';}};</script><script type=\"text/javascript\" src=\"https://mbdp02.bdstatic.com/static/superlanding/js/lib/jquery_0affbc1.js\"></script><script type=\"text/javascript\" src=\"https://mbdp02.bdstatic.com/static/superlanding/js/land_min_pack_5454680.js\"></script><script type=\"text/javascript\" src=\"https://mbdp02.bdstatic.com/static/superlanding/js/article/index_0452116.js\"></script><script>try {(function () {function init_report() {$ && $.ajax({url: \\'https://mbd.baidu.com/newspage/api/getusername\\',type: \\'get\\',dataType: \\'jsonp\\',jsonp: \\'cb\\',success: function (res) {if (!(res && res.username)) {var currentHref = window.location.href;window.location.href = \\'https://passport.baidu.com/v2/?login&tpl=mn&u=\\' + encodeURIComponent(currentHref);return;};if (bds && bds.qa && bds.qa.ShortCut && bds.qa.ShortCut.initRightBar) {var fb_options = {needImage: true,appid: 215939,productLine: 90509,\\'upload_file\\': true,requiredContent: false,issuePlaceholder: \\'\\xe8\\xaf\\xb7\\xe8\\xbe\\x93\\xe5\\x85\\xa5\\xe9\\x97\\xae\\xe9\\xa2\\x98\\xe6\\x8f\\x8f\\xe8\\xbf\\xb0\\',contactPlaceholder: \\'\\xe8\\xaf\\xb7\\xe5\\xa1\\xab\\xe5\\x86\\x99\\xe8\\x81\\x94\\xe7\\xb3\\xbb\\xe6\\x96\\xb9\\xe5\\xbc\\x8f\\',isReport: true,hideHotQuestion: true};bds.qa.ShortCut.initRightBar(fb_options);var proData = {\\'referer\\': window.location.href,\\'extend_url\\': window.location.href,\\'extend_feedback_channel\\': \\'32598\\',\\'resource_id\\': window.s_session.nid,\\'daily_type\\': \\'67752\\',\\'remark\\': \\'bjh\\'};bds.qa.ShortCut._getProData(proData);}}});}function loadReportBar() {if (window.bds && window.bds.qa && window.bds.qa.ShortCut) {init_report();} else {loadScript(\\'https://ufosdk.baidu.com/Public/feedback/js/dist/feedback_plugin_2.0.js\\',function () {init_report();}, {charset: \\'utf-8\\',id: \\'feedback_script\\'});}return false;}document.getElementById(\\'feedback_report(215939)\\').onclick = loadReportBar;})();function loadScript(url, callback, opt) {var script = document.createElement(\\'script\\');var opt = opt || {};script.type = \\'text/javascript\\';if (opt.charset) {script.charset = opt.charset;}if (opt.id) {script.id = opt.id;}if (script.readyState) {script.onreadystatechange = function () {if (script.readyState === \\'loaded\\' || script.readyState === \\'complete\\') {script.onreadystatechange = null;callback();}};} else {script.onload = function () {callback();};}script.src = url;document.body.appendChild(script);}} catch (error) {}</script></body></html>'"
      ]
     },
     "execution_count": 7,
     "metadata": {},
     "output_type": "execute_result"
    }
   ],
   "source": [
    "content"
   ]
  },
  {
   "cell_type": "markdown",
   "metadata": {},
   "source": [
    "### 使用BeautifulSoup库来进行解析"
   ]
  },
  {
   "cell_type": "code",
   "execution_count": 8,
   "metadata": {},
   "outputs": [],
   "source": [
    "soup = BeautifulSoup(content, 'html.parser', from_encoding = 'utf-8')"
   ]
  },
  {
   "cell_type": "code",
   "execution_count": 9,
   "metadata": {},
   "outputs": [
    {
     "data": {
      "text/plain": [
       "<!DOCTYPE html>\n",
       "\n",
       "<html xmlns=\"http://www.w3.org/1999/xhtml\"><head><meta charset=\"utf-8\"/><meta content=\"always\" name=\"referrer\"/><meta content=\"IE=edge,chrome=1\" http-equiv=\"X-UA-Compatible\"/><meta content=\"width=device-width,initial-scale=1.0,minimum-scale=1.0,maximum-scale=1.0,user-scalable=no\" name=\"viewport\"/><link href=\"https://gss0.bdstatic.com/5bd1bjqh_Q23odCf/static/wiseindex/img/favicon64.ico\" rel=\"shortcut icon\" type=\"image/x-icon\"/><link href=\"https://gss0.bdstatic.com/5bd1bjqh_Q23odCf/static/wiseindex/img/screen_icon_new.png\" rel=\"apple-touch-icon-precomposed\"/><title>外媒：特朗普签的中美经贸协议，拜登可能要改主意了</title><link href=\"https://mbdp01.bdstatic.com/static/superlanding/css/land_min_pack_7c91461.css\" rel=\"stylesheet\"/><meta content=\"2021-01-30 11:10:06\" itemprop=\"dateUpdate\"/></head><body><script>/* eslint-disable */var s_domain = {\"protocol\":\"https:\",\"staticUrl\":\"https://ss0.bdstatic.com/5aV1bjqh_Q23odCf/\",\"base\":\"\",\"baseuri\":\"\",\"passconf\":\"http://passport.baidu.com/ubrwsbas\",\"logout\":\"https://passport.baidu.com/?logout&u=\",\"bs\":\"https://www.baidu.com\",\"sp\":\"http://hi.baidu.com/\",\"ssllist\":{\"a.hiphotos.baidu.com\":\"ss0.baidu.com/94o3dSag_xI4khGko9WTAnF6hhy\",\"b.hiphotos.baidu.com\":\"ss1.baidu.com/9vo3dSag_xI4khGko9WTAnF6hhy\",\"c.hiphotos.baidu.com\":\"ss3.baidu.com/9fo3dSag_xI4khGko9WTAnF6hhy\",\"d.hiphotos.baidu.com\":\"ss0.baidu.com/-Po3dSag_xI4khGko9WTAnF6hhy\",\"e.hiphotos.baidu.com\":\"ss1.baidu.com/-4o3dSag_xI4khGko9WTAnF6hhy\",\"f.hiphotos.baidu.com\":\"ss2.baidu.com/-vo3dSag_xI4khGko9WTAnF6hhy\",\"g.hiphotos.baidu.com\":\"ss3.baidu.com/-fo3dSag_xI4khGko9WTAnF6hhy\",\"h.hiphotos.baidu.com\":\"ss0.baidu.com/7Po3dSag_xI4khGko9WTAnF6hhy\",\"1.su.bdimg.com\":\"ss0.bdstatic.com/k4oZeXSm1A5BphGlnYG\",\"t10.baidu.com\":\"ss0.baidu.com/6ONWsjip0QIZ8tyhnq\",\"t11.baidu.com\":\"ss1.baidu.com/6ONXsjip0QIZ8tyhnq\",\"t12.baidu.com\":\"ss2.baidu.com/6ONYsjip0QIZ8tyhnq\",\"himg.bdimg.com\":\"ss1.bdstatic.com/7Ls0a8Sm1A5BphGlnYG\",\"cdn00.baidu-img.cn\":\"ss0.bdstatic.com/9bA1vGba2gU2pMbfm9GUKT-w\",\"cdn01.baidu-img.cn\":\"ss0.bdstatic.com/9bA1vGfa2gU2pMbfm9GUKT-w\"}};var s_session = {\"ssid\":\"0\",\"logid\":\"\",\"sid\":\"\",\"nid\":\"9531811470811852418\",\"qid\":\"\"};var s_advert = {\"isBjh\":\"1\",\"contentUrl\":\"http://baijiahao.baidu.com/s?id=1690279582150009600\",\"contentPlatformId\":\"3\",\"contentType\":\"1\",\"pvid\":\"62e080a1ca610e8f\",\"time\":\"2021-01-30 11:56:59\",\"contentAccType\":\"1\",\"ctk\":\"62603ea7ed3b45fb\",\"contentAccId\":\"Na5fkh6YSaToSTs5lPM09A\",\"ctk_b\":\"d39f004bc1568f23\",\"logid\":\"3419449574\",\"dtime\":\"1611979019\",\"grade\":\"2\",\"createTimeAccLevel\":\"2\"};var s_comment = {\"tid\":\"1033000038724166\",\"forbidComment\":\"\"};</script><script>/* eslint-disable */var bds={se:{},su:{urdata:[],urSendClick:function(){},urStatic:\"https://ss.bdimg.com\"},util:{},use:{},comm:{domain:\"\",ubsurl:\"\",tn:\"\",queryEnc:\"\",queryId:\"\",inter:\"\",sugHost:\"\",query:\"\",qid:\"\",cid:\"\",sid:\"\",stoken:\"\",serverTime:\"\",user:\"\",username:\"\",loginAction:[],useFavo:\"\",pinyin:\"\",favoOn:\"\",curResultNum:\"0\",rightResultExist:false,protectNum:0,zxlNum:0,pageNum:1,pageSize:10,ishome:1,newindex:1}};var name,navigate,al_arr=[];var selfOpen=window.open;eval(\"var open = selfOpen;\");var isIE=navigator.userAgent.indexOf(\"MSIE\")!=-1&&!window.opera;var E=bds.ecom={};bds.se.mon={loadedItems:[],load:function(){},srvt:-1};try{bds.se.mon.srvt=parseInt(document.cookie.match(new RegExp(\"(^| )BDSVRTM=([^;]*)(;|$)\"))[2]);document.cookie=\"BDSVRTM=;expires=Sat, 01 Jan 2000 00:00:00 GMT\"}catch(e){}var bdUser=bds.comm.user?bds.comm.user:null,bdQuery=bds.comm.query,bdUseFavo=bds.comm.useFavo,bdFavoOn=bds.comm.favoOn,bdCid=bds.comm.cid,bdSid=bds.comm.sid,bdServerTime=bds.comm.serverTime,bdQid=bds.comm.queryId,bdstoken=bds.comm.stoken,login_success=[];</script><div id=\"detail-page\"><div class=\"line-shadow\"></div><div class=\"item-wrap\"><div class=\"header_wrap\" id=\"header_wrap\"><div class=\"header_content\"><div class=\"header_logo\"><a data-clklog=\"tid:139;cst:2;logInfo:head_logo;\" data-extralog=\"rid:;pos:;extra:;isBaiJiaHao:1;login:0;\" data-rid=\"head_0\" href=\"https://www.baidu.com\" id=\"result_logo\"><img alt=\"到百度首页\" src=\"https://ss0.bdstatic.com/5aV1bjqh_Q23odCf/static/superlanding/img/logo_top.png\" title=\"到百度首页\"/></a></div><div class=\"header_menu\" data-rid=\"header_menu\"><a class=\"index\" data-clklog=\"tid:142;cst:2;logInfo:head_menu\" data-extralog=\"rid:;pos:;extra:;isBaiJiaHao:1;login:0;type:backindex\" data-rid=\"head_1\" href=\"https://www.baidu.com\">百度首页</a><span class=\"line\"></span><div id=\"userBlock\"><a class=\"login\" data-clklog=\"tid:142;cst:2;logInfo:head_menu;\" data-extralog=\"rid:;pos:;extra:;isBaiJiaHao:1;login:0;type:login\" data-rid=\"head_2\" href=\"https://passport.baidu.com/v2/?login&amp;tpl=mn&amp;u=http://www.baidu.com\">登录</a><a class=\"usrname\" data-clklog=\"tid:142;cst:2;logInfo:head_menu;\" data-extralog=\"rid:;pos:;extra:;isBaiJiaHao:1;login:0;type:usrname;\" data-rid=\"head_2\" href=\"http://i.baidu.com/\" id=\"usrname\"><span id=\"nametxt\"></span><div class=\"s-isindex-wrap s-user-set-menu menu-top\" data-extralog=\"rid:;pos:;extra:;isBaiJiaHao:1;login:0;\" data-showlog=\"tid:131;cst:1;logInfo:usrmenu;\" id=\"user_menu\" style=\"display: none;\"><div><a data-clklog=\"tid:146;cst:2;logInfo:usrmenu;\" data-extralog=\"rid:;pos:1;extra:;isBaiJiaHao:1;login:0;type:center;\" data-rid=\"usr_menu_1\" data-tid=\"1000\" href=\"http://i.baidu.com/center\" target=\"_blank\">个人中心</a><a data-clklog=\"tid:146;cst:2;logInfo:usrmenu;\" data-extralog=\"rid:;pos:2;extra:;isBaiJiaHao:1;login:0;type:passport;\" data-rid=\"usr_menu_2\" data-tid=\"1001\" href=\"http://passport.baidu.com/\" target=\"_blank\">帐号设置</a><a class=\"s-feedback\" data-clklog=\"tid:146;cst:2;logInfo:usrmenu;\" data-extralog=\"rid:;pos:3;extra:;isBaiJiaHao:1;login:0;type:feedback;\" data-rid=\"header_menu_3\" href=\"#\" onclick=\"return false;\" style=\"overflow:hidden\">意见反馈</a><a class=\"quit\" data-clklog=\"tid:146;cst:2;logInfo:usrmenu;\" data-extralog=\"rid:;pos:4;extra:;isBaiJiaHao:1;login:0;type:quit;\" data-rid=\"usr_menu_4\" href=\"https://passport.baidu.com/?logout&amp;u=https://www.baidu.com\" style=\"overflow:hidden\">退出</a></div><span class=\"menu-arrow\"><em></em></span></div></a></div></div></div></div></div><div class=\"title_border\"><div class=\"anci_header_content\"><div class=\"article-title\"><h2>外媒：特朗普签的中美经贸协议，拜登可能要改主意了</h2></div><div class=\"article-desc clearfix\"><div class=\"author-icon\"><a href=\"https://author.baidu.com/home?from=bjh_article&amp;app_id=1636203306265037\" target=\"_blank\"><img src=\"https://pic.rmb.bdstatic.com/10c0099fe5c2ef55fbd758a03a6ecafa.jpeg@c_1,w_300,h_300,x_0,y_0\"/></a><i class=\"author-vip author-vip-2\"></i></div><div class=\"author-txt\"><div class=\"author-name\"><a href=\"https://author.baidu.com/home?from=bjh_article&amp;app_id=1636203306265037\" target=\"_blank\">青瞳视角</a></div><div class=\"article-source article-source-bjh\"><span class=\"date\">发布时间：01-30</span><span class=\"time\">11:10</span><span class=\"account-authentication\">北京青年报北青网官方帐号</span></div></div></div></div></div><div class=\"content-container clearfix\" data-extralog=\"flow:2;st:news;rid:9531811470811852418;pos:0;extra:;source:1;isBaijiahao:1;login:0;appId:1636203306265037;\" data-ratio=\"1\" data-rid=\"page\" data-showlog=\"tid:126;cst:1;logInfo:landing;\" id=\"content-container\"><div class=\"left-container\" id=\"left-container\"><div class=\"item-wrap\"><div class=\"article\" data-islow-browser=\"0\" id=\"article\"><div class=\"article-content\"><p><span class=\"bjh-p\">据路透社华盛顿消息，当地时间29日，美国拜登政府将重新评估前总统特朗普时期的国家安全措施，其中包括中美第一阶段经贸协议。</span></p><p><span class=\"bjh-p\">报道称，针对关于中美第一阶段经贸协议是否还有效的提问，美国白宫新闻秘书珍·普萨基当地时间29日在白宫例行记者会上说：“前任政府出台的所有关系国家安全的措施都要重新评估，不要想当然地认为会继续推进”。</span></p><p><span class=\"bjh-p\">据报道，普萨基表示拜登政府会专注于在强有力的位置上处理中美关系，这意味着美国要“与我们的盟国和伙伴们就如何与中国打交道进行协调和沟通”。</span></p><p><span class=\"bjh-p\">报道援引美国政府消息人士的话称，拜登政府在评估期间会暂停实施美国对3700亿美元中国商品加征关税的措施，直到全面评估完成、美国找出与其他国家联合对华的最佳办法后，再决定做出哪些改变。（编译 戴晓峥）</span></p><p><span class=\"bjh-p\">编辑/熊颖琪</span></p></div><audio data-play-index=\"\" height=\"0\" id=\"musicAudio\" width=\"0\"><source/></audio></div></div><div class=\"item-wrap clearfix\"><button class=\"report-container\" id=\"feedback_report(215939)\">举报/反馈</button></div><div id=\"commentModule\"></div></div><div class=\"right-container\" id=\"right-container\"><div class=\"item-wrap\"><div class=\"recent-article\" data-pos=\"\"><h2>作者最新文章</h2></div></div></div></div></div></body></html><ul><li data-extralog=\"rid:;pos:0;extra:;isBaiJiaHao:1;login:0;\" data-rid=\"recent_article_0\" data-showlog=\"tid:135;cst:1;logInfo:recent_article;\"><h3 class=\"item-title\"><a data-clklog=\"tid:147;cst:2;logInfo:recent_article;\" data-extralog=\"rid:;pos:0;extra:;isBaiJiaHao:1;login:0;\" href=\"https://mbd.baidu.com/newspage/data/landingsuper?context=%7B%22nid%22%3A%22news_10364630811215664320%22%7D&amp;n_type=1&amp;p_from=3\" target=\"_blank\">德国已确诊150例感染变异毒株病例 将对疫情严重国家实施入境限制</a></h3><div class=\"item-desc hide\"><span class=\"info-date\">01-30</span><span class=\"info-time\">11:10</span></div></li><li data-extralog=\"rid:;pos:1;extra:;isBaiJiaHao:1;login:0;\" data-rid=\"recent_article_1\" data-showlog=\"tid:135;cst:1;logInfo:recent_article;\"><h3 class=\"item-title\"><a data-clklog=\"tid:147;cst:2;logInfo:recent_article;\" data-extralog=\"rid:;pos:1;extra:;isBaiJiaHao:1;login:0;\" href=\"https://mbd.baidu.com/newspage/data/landingsuper?context=%7B%22nid%22%3A%22news_10271780138039374383%22%7D&amp;n_type=1&amp;p_from=3\" target=\"_blank\">警探号｜团伙专盯小区地下室 技术开锁偷的都是高档白酒</a></h3><div class=\"item-desc hide\"><span class=\"info-date\">01-30</span><span class=\"info-time\">11:10</span></div></li><li data-extralog=\"rid:;pos:2;extra:;isBaiJiaHao:1;login:0;\" data-rid=\"recent_article_2\" data-showlog=\"tid:135;cst:1;logInfo:recent_article;\"><h3 class=\"item-title\"><a data-clklog=\"tid:147;cst:2;logInfo:recent_article;\" data-extralog=\"rid:;pos:2;extra:;isBaiJiaHao:1;login:0;\" href=\"https://mbd.baidu.com/newspage/data/landingsuper?context=%7B%22nid%22%3A%22news_9811197521646386050%22%7D&amp;n_type=1&amp;p_from=3\" target=\"_blank\">疫情导致乘客锐减 胜安航空将并入新加坡航空公司</a></h3><div class=\"item-desc hide\"><span class=\"info-date\">01-30</span><span class=\"info-time\">11:05</span></div></li></ul><div class=\"item-wrap\"><div class=\"related-news\"><div class=\"news-content\"><h2>相关文章</h2><ul><li data-extralog=\"flow:2;rid:;pos:0;extra:;isBaiJiaHao:1;login:0;\" data-rid=\"related_news_0\" data-showlog=\"tid:136;cst:1;logInfo:related_news;\"><div class=\"item-content clearfix\"><div class=\"news-info\"><div class=\"news-title\"><h3><a class=\"upgrade\" data-clklog=\"tid:148;cst:2;logInfo:related_news;\" data-extralog=\"rid:;pos:0;extra:;isBaiJiaHao:1;login:0;type:'title'\" href=\"https://mbd.baidu.com/newspage/data/landingsuper?context=%7B%22nid%22%3A%22news_8952320511800217819%22%7D&amp;n_type=1&amp;p_from=4\" target=\"_blank\">中美难以迎来转机？新任国务卿改口支持特朗普：对华强硬是对的</a></h3></div></div><div class=\"news-pic\"><a class=\"upgrade\" data-clklog=\"tid:148;cst:2;logInfo:related_news;\" data-extralog=\"rid:;pos:1;extra:;isBaiJiaHao:1;login:0;type:'img'\" href=\"https://mbd.baidu.com/newspage/data/landingsuper?context=%7B%22nid%22%3A%22news_8952320511800217819%22%7D&amp;n_type=1&amp;p_from=4\" target=\"_blank\"><img src=\"https://t12.baidu.com/it/u=1559255549,2337766540&amp;fm=173&amp;app=49&amp;f=JPEG?w=312&amp;h=208&amp;s=8B31E304C0323F869FA855BB0300C094\"/></a></div></div></li><li data-extralog=\"flow:2;rid:;pos:1;extra:;isBaiJiaHao:1;login:0;\" data-rid=\"related_news_1\" data-showlog=\"tid:136;cst:1;logInfo:related_news;\"><div class=\"item-content clearfix\"><div class=\"news-info\"><div class=\"news-title\"><h3><a class=\"upgrade\" data-clklog=\"tid:148;cst:2;logInfo:related_news;\" data-extralog=\"rid:;pos:1;extra:;isBaiJiaHao:1;login:0;type:'title'\" href=\"https://mbd.baidu.com/newspage/data/landingsuper?context=%7B%22nid%22%3A%22news_9778009360100049082%22%7D&amp;n_type=1&amp;p_from=4\" target=\"_blank\">拜登政府停止多项对外军售案 台外事部门称台湾不在名单中</a></h3></div></div><div class=\"news-pic\"><a class=\"upgrade\" data-clklog=\"tid:148;cst:2;logInfo:related_news;\" data-extralog=\"rid:;pos:2;extra:;isBaiJiaHao:1;login:0;type:'img'\" href=\"https://mbd.baidu.com/newspage/data/landingsuper?context=%7B%22nid%22%3A%22news_9778009360100049082%22%7D&amp;n_type=1&amp;p_from=4\" target=\"_blank\"><img src=\"https://t10.baidu.com/it/u=3225120063,557099793&amp;fm=173&amp;app=49&amp;f=JPEG?w=312&amp;h=208&amp;s=5D5050865C52BAD4387F8D910300D08B\"/></a></div></div></li><li data-extralog=\"flow:2;rid:;pos:2;extra:;isBaiJiaHao:1;login:0;\" data-rid=\"related_news_2\" data-showlog=\"tid:136;cst:1;logInfo:related_news;\"><div class=\"item-content clearfix\"><div class=\"news-info\"><div class=\"news-title\"><h3><a class=\"upgrade\" data-clklog=\"tid:148;cst:2;logInfo:related_news;\" data-extralog=\"rid:;pos:2;extra:;isBaiJiaHao:1;login:0;type:'title'\" href=\"https://mbd.baidu.com/newspage/data/landingsuper?context=%7B%22nid%22%3A%22news_9265298764249675227%22%7D&amp;n_type=1&amp;p_from=4\" target=\"_blank\">开始了！美国务卿布林肯与法德菲外长通电话，通通电话都提中国</a></h3></div></div><div class=\"news-pic\"><a class=\"upgrade\" data-clklog=\"tid:148;cst:2;logInfo:related_news;\" data-extralog=\"rid:;pos:3;extra:;isBaiJiaHao:1;login:0;type:'img'\" href=\"https://mbd.baidu.com/newspage/data/landingsuper?context=%7B%22nid%22%3A%22news_9265298764249675227%22%7D&amp;n_type=1&amp;p_from=4\" target=\"_blank\"><img src=\"https://t12.baidu.com/it/u=3077235326,3435800194&amp;fm=173&amp;app=49&amp;f=JPEG?w=312&amp;h=208&amp;s=F52AB0540263051154B8548B0300F09C\"/></a></div></div></li><li data-extralog=\"flow:2;rid:;pos:3;extra:;isBaiJiaHao:1;login:0;\" data-rid=\"related_news_3\" data-showlog=\"tid:136;cst:1;logInfo:related_news;\"><div class=\"item-content clearfix\"><div class=\"news-info\"><div class=\"news-title\"><h3><a class=\"upgrade\" data-clklog=\"tid:148;cst:2;logInfo:related_news;\" data-extralog=\"rid:;pos:3;extra:;isBaiJiaHao:1;login:0;type:'title'\" href=\"https://mbd.baidu.com/newspage/data/landingsuper?context=%7B%22nid%22%3A%22news_9433872945096550512%22%7D&amp;n_type=1&amp;p_from=4\" target=\"_blank\">东方智库丨白宫十日谈：拜登的十件事</a></h3></div></div><div class=\"news-pic\"><a class=\"upgrade\" data-clklog=\"tid:148;cst:2;logInfo:related_news;\" data-extralog=\"rid:;pos:4;extra:;isBaiJiaHao:1;login:0;type:'img'\" href=\"https://mbd.baidu.com/newspage/data/landingsuper?context=%7B%22nid%22%3A%22news_9433872945096550512%22%7D&amp;n_type=1&amp;p_from=4\" target=\"_blank\"><img src=\"https://t10.baidu.com/it/u=708616737,1910411398&amp;fm=173&amp;app=49&amp;f=JPEG?w=312&amp;h=208&amp;s=ABC5F8042A5321DE1EBD1B930300C08E\"/></a></div></div></li><li data-extralog=\"flow:2;rid:;pos:4;extra:;isBaiJiaHao:1;login:0;\" data-rid=\"related_news_4\" data-showlog=\"tid:136;cst:1;logInfo:related_news;\"><div class=\"item-content clearfix\"><div class=\"news-info\"><div class=\"news-title\"><h3><a class=\"upgrade\" data-clklog=\"tid:148;cst:2;logInfo:related_news;\" data-extralog=\"rid:;pos:4;extra:;isBaiJiaHao:1;login:0;type:'title'\" href=\"https://mbd.baidu.com/newspage/data/landingsuper?context=%7B%22nid%22%3A%22news_10229054958742686956%22%7D&amp;n_type=1&amp;p_from=4\" target=\"_blank\">注意！以后不要轻易问一个美国人是男还是女！</a></h3></div></div><div class=\"news-pic\"><a class=\"upgrade\" data-clklog=\"tid:148;cst:2;logInfo:related_news;\" data-extralog=\"rid:;pos:5;extra:;isBaiJiaHao:1;login:0;type:'img'\" href=\"https://mbd.baidu.com/newspage/data/landingsuper?context=%7B%22nid%22%3A%22news_10229054958742686956%22%7D&amp;n_type=1&amp;p_from=4\" target=\"_blank\"><img src=\"https://t10.baidu.com/it/u=440748546,3877954878&amp;fm=173&amp;app=49&amp;f=JPEG?w=312&amp;h=208&amp;s=BA9200CF66037B55723294B30300F011\"/></a></div></div></li></ul></div></div><div ad-id=\"relate-js\" class=\"wangmeng-ad\" data-clklog=\"tid:370;cst:2;logInfo:adsjs;\" data-extralog=\"rid:;pos:5;extra:;baijiahao:1;login:0;\" data-showlog=\"tid:369;cst:1;logInfo:adsjs;\" id=\"relateAd\"></div></div><div class=\"bottom-container\" id=\"bottom-container\"><div class=\"copy-right\"><div class=\"baidu-info\"><a class=\"sethome\" href=\"//www.baidu.com/cache/sethelp/index.html\" target=\"_blank\"><span>设为首页</span></a><span class=\"copyright-text\"><span>© Baidu </span><a href=\"//www.baidu.com/duty/\" target=\"_blank\">使用百度前必读</a> <a href=\"http://jianyi.baidu.com\" target=\"_blank\">意见反馈</a> <span>京ICP证030173号 </span><img height=\"16\" src=\"https://ss0.bdstatic.com/5aV1bjqh_Q23odCf/static/superman/img/copy_rignt_24.png\" width=\"13\"/></span></div><div class=\"recordcode\"><a href=\"http://www.beian.gov.cn/portal/registerSystemInfo?recordcode=11000002000001\" target=\"_blank\"><i></i>京公网安备11000002000001号</a></div></div><div class=\"back-to-top\" data-clklog=\"tid:138;cst:2;logInfo:back_to_top;\" data-extralog=\"rid:;pos:;extra:;isBaiJiaHao:1;login:0;\" data-rid=\"back_to_top\" data-showlog=\"tid:133;cst:1;logInfo:back_to_top;\"><div class=\"icon-text\"><span>返回顶部</span></div><div class=\"icon-arrow\"><span></span></div></div></div><script type=\"text/javascript\">window.onload = function () {var contentContainer = document.getElementById('content-container');var bottomContainer = document.getElementById('bottom-container');var rightContainer = document.getElementById('right-container');var minContentHeight = window.innerHeight - bottomContainer.offsetHeight;if (contentContainer.offsetHeight < minContentHeight) {contentContainer.style.height = minContentHeight + 'px';bottomContainer.className += ' fixed';}if (rightContainer.children.length === 0) {rightContainer.style.width = parseInt(rightContainer.offsetWidth + 1, 10) + 'px';}};</script><script src=\"https://mbdp02.bdstatic.com/static/superlanding/js/lib/jquery_0affbc1.js\" type=\"text/javascript\"></script><script src=\"https://mbdp02.bdstatic.com/static/superlanding/js/land_min_pack_5454680.js\" type=\"text/javascript\"></script><script src=\"https://mbdp02.bdstatic.com/static/superlanding/js/article/index_0452116.js\" type=\"text/javascript\"></script><script>try {(function () {function init_report() {$ && $.ajax({url: 'https://mbd.baidu.com/newspage/api/getusername',type: 'get',dataType: 'jsonp',jsonp: 'cb',success: function (res) {if (!(res && res.username)) {var currentHref = window.location.href;window.location.href = 'https://passport.baidu.com/v2/?login&tpl=mn&u=' + encodeURIComponent(currentHref);return;};if (bds && bds.qa && bds.qa.ShortCut && bds.qa.ShortCut.initRightBar) {var fb_options = {needImage: true,appid: 215939,productLine: 90509,'upload_file': true,requiredContent: false,issuePlaceholder: '请输入问题描述',contactPlaceholder: '请填写联系方式',isReport: true,hideHotQuestion: true};bds.qa.ShortCut.initRightBar(fb_options);var proData = {'referer': window.location.href,'extend_url': window.location.href,'extend_feedback_channel': '32598','resource_id': window.s_session.nid,'daily_type': '67752','remark': 'bjh'};bds.qa.ShortCut._getProData(proData);}}});}function loadReportBar() {if (window.bds && window.bds.qa && window.bds.qa.ShortCut) {init_report();} else {loadScript('https://ufosdk.baidu.com/Public/feedback/js/dist/feedback_plugin_2.0.js',function () {init_report();}, {charset: 'utf-8',id: 'feedback_script'});}return false;}document.getElementById('feedback_report(215939)').onclick = loadReportBar;})();function loadScript(url, callback, opt) {var script = document.createElement('script');var opt = opt || {};script.type = 'text/javascript';if (opt.charset) {script.charset = opt.charset;}if (opt.id) {script.id = opt.id;}if (script.readyState) {script.onreadystatechange = function () {if (script.readyState === 'loaded' || script.readyState === 'complete') {script.onreadystatechange = null;callback();}};} else {script.onload = function () {callback();};}script.src = url;document.body.appendChild(script);}} catch (error) {}</script>"
      ]
     },
     "execution_count": 9,
     "metadata": {},
     "output_type": "execute_result"
    }
   ],
   "source": [
    "soup"
   ]
  },
  {
   "cell_type": "markdown",
   "metadata": {},
   "source": [
    "### 获取解析后网页的文本内容"
   ]
  },
  {
   "cell_type": "code",
   "execution_count": 10,
   "metadata": {},
   "outputs": [],
   "source": [
    "text = soup.get_text()"
   ]
  },
  {
   "cell_type": "code",
   "execution_count": 11,
   "metadata": {},
   "outputs": [
    {
     "data": {
      "text/plain": [
       "'\\n外媒：特朗普签的中美经贸协议，拜登可能要改主意了百度首页登录个人中心帐号设置意见反馈退出外媒：特朗普签的中美经贸协议，拜登可能要改主意了青瞳视角发布时间：01-3011:10北京青年报北青网官方帐号据路透社华盛顿消息，当地时间29日，美国拜登政府将重新评估前总统特朗普时期的国家安全措施，其中包括中美第一阶段经贸协议。报道称，针对关于中美第一阶段经贸协议是否还有效的提问，美国白宫新闻秘书珍·普萨基当地时间29日在白宫例行记者会上说：“前任政府出台的所有关系国家安全的措施都要重新评估，不要想当然地认为会继续推进”。据报道，普萨基表示拜登政府会专注于在强有力的位置上处理中美关系，这意味着美国要“与我们的盟国和伙伴们就如何与中国打交道进行协调和沟通”。报道援引美国政府消息人士的话称，拜登政府在评估期间会暂停实施美国对3700亿美元中国商品加征关税的措施，直到全面评估完成、美国找出与其他国家联合对华的最佳办法后，再决定做出哪些改变。（编译 戴晓峥）编辑/熊颖琪举报/反馈作者最新文章德国已确诊150例感染变异毒株病例 将对疫情严重国家实施入境限制01-3011:10警探号｜团伙专盯小区地下室 技术开锁偷的都是高档白酒01-3011:10疫情导致乘客锐减 胜安航空将并入新加坡航空公司01-3011:05相关文章中美难以迎来转机？新任国务卿改口支持特朗普：对华强硬是对的拜登政府停止多项对外军售案 台外事部门称台湾不在名单中开始了！美国务卿布林肯与法德菲外长通电话，通通电话都提中国东方智库丨白宫十日谈：拜登的十件事注意！以后不要轻易问一个美国人是男还是女！设为首页©\\xa0Baidu\\xa0使用百度前必读\\xa0意见反馈\\xa0京ICP证030173号\\xa0京公网安备11000002000001号返回顶部'"
      ]
     },
     "execution_count": 11,
     "metadata": {},
     "output_type": "execute_result"
    }
   ],
   "source": [
    "text"
   ]
  },
  {
   "cell_type": "markdown",
   "metadata": {},
   "source": [
    "### 使用正则表达式进行清洗"
   ]
  },
  {
   "cell_type": "code",
   "execution_count": 12,
   "metadata": {},
   "outputs": [],
   "source": [
    "import re"
   ]
  },
  {
   "cell_type": "code",
   "execution_count": 13,
   "metadata": {},
   "outputs": [],
   "source": [
    "text = re.sub('[^[\\u4e00-\\u9fa5。，！：]{3,}','',text)"
   ]
  },
  {
   "cell_type": "code",
   "execution_count": 14,
   "metadata": {},
   "outputs": [
    {
     "data": {
      "text/plain": [
       "'\\n外媒：特朗普签的中美经贸协议，拜登可能要改主意了百度首页登录个人中心帐号设置意见反馈退出外媒：特朗普签的中美经贸协议，拜登可能要改主意了青瞳视角发布时间：北京青年报北青网官方帐号据路透社华盛顿消息，当地时间29日，美国拜登政府将重新评估前总统特朗普时期的国家安全措施，其中包括中美第一阶段经贸协议。报道称，针对关于中美第一阶段经贸协议是否还有效的提问，美国白宫新闻秘书珍·普萨基当地时间29日在白宫例行记者会上说：“前任政府出台的所有关系国家安全的措施都要重新评估，不要想当然地认为会继续推进”。据报道，普萨基表示拜登政府会专注于在强有力的位置上处理中美关系，这意味着美国要“与我们的盟国和伙伴们就如何与中国打交道进行协调和沟通”。报道援引美国政府消息人士的话称，拜登政府在评估期间会暂停实施美国对亿美元中国商品加征关税的措施，直到全面评估完成、美国找出与其他国家联合对华的最佳办法后，再决定做出哪些改变。（编译 戴晓峥）编辑/熊颖琪举报/反馈作者最新文章德国已确诊例感染变异毒株病例 将对疫情严重国家实施入境限制警探号｜团伙专盯小区地下室 技术开锁偷的都是高档白酒疫情导致乘客锐减 胜安航空将并入新加坡航空公司相关文章中美难以迎来转机？新任国务卿改口支持特朗普：对华强硬是对的拜登政府停止多项对外军售案 台外事部门称台湾不在名单中开始了！美国务卿布林肯与法德菲外长通电话，通通电话都提中国东方智库丨白宫十日谈：拜登的十件事注意！以后不要轻易问一个美国人是男还是女！设为首页使用百度前必读\\xa0意见反馈\\xa0京证号\\xa0京公网安备号返回顶部'"
      ]
     },
     "execution_count": 14,
     "metadata": {},
     "output_type": "execute_result"
    }
   ],
   "source": [
    "text"
   ]
  },
  {
   "cell_type": "code",
   "execution_count": 15,
   "metadata": {},
   "outputs": [],
   "source": [
    "#去掉空行和其他的符号\n",
    "text = \"\".join(text.split())"
   ]
  },
  {
   "cell_type": "code",
   "execution_count": 16,
   "metadata": {},
   "outputs": [
    {
     "data": {
      "text/plain": [
       "'外媒：特朗普签的中美经贸协议，拜登可能要改主意了百度首页登录个人中心帐号设置意见反馈退出外媒：特朗普签的中美经贸协议，拜登可能要改主意了青瞳视角发布时间：北京青年报北青网官方帐号据路透社华盛顿消息，当地时间29日，美国拜登政府将重新评估前总统特朗普时期的国家安全措施，其中包括中美第一阶段经贸协议。报道称，针对关于中美第一阶段经贸协议是否还有效的提问，美国白宫新闻秘书珍·普萨基当地时间29日在白宫例行记者会上说：“前任政府出台的所有关系国家安全的措施都要重新评估，不要想当然地认为会继续推进”。据报道，普萨基表示拜登政府会专注于在强有力的位置上处理中美关系，这意味着美国要“与我们的盟国和伙伴们就如何与中国打交道进行协调和沟通”。报道援引美国政府消息人士的话称，拜登政府在评估期间会暂停实施美国对亿美元中国商品加征关税的措施，直到全面评估完成、美国找出与其他国家联合对华的最佳办法后，再决定做出哪些改变。（编译戴晓峥）编辑/熊颖琪举报/反馈作者最新文章德国已确诊例感染变异毒株病例将对疫情严重国家实施入境限制警探号｜团伙专盯小区地下室技术开锁偷的都是高档白酒疫情导致乘客锐减胜安航空将并入新加坡航空公司相关文章中美难以迎来转机？新任国务卿改口支持特朗普：对华强硬是对的拜登政府停止多项对外军售案台外事部门称台湾不在名单中开始了！美国务卿布林肯与法德菲外长通电话，通通电话都提中国东方智库丨白宫十日谈：拜登的十件事注意！以后不要轻易问一个美国人是男还是女！设为首页使用百度前必读意见反馈京证号京公网安备号返回顶部'"
      ]
     },
     "execution_count": 16,
     "metadata": {},
     "output_type": "execute_result"
    }
   ],
   "source": [
    "text"
   ]
  },
  {
   "cell_type": "code",
   "execution_count": 17,
   "metadata": {},
   "outputs": [],
   "source": [
    "import jieba.posseg as pseg"
   ]
  },
  {
   "cell_type": "code",
   "execution_count": 18,
   "metadata": {},
   "outputs": [
    {
     "name": "stderr",
     "output_type": "stream",
     "text": [
      "Building prefix dict from the default dictionary ...\n",
      "Loading model from cache C:\\Users\\guoxi\\AppData\\Local\\Temp\\jieba.cache\n",
      "Loading model cost 0.832 seconds.\n",
      "Prefix dict has been built successfully.\n"
     ]
    }
   ],
   "source": [
    "#获取人物，地点\n",
    "words = pseg.lcut(text)"
   ]
  },
  {
   "cell_type": "markdown",
   "metadata": {},
   "source": [
    "### 查看一下清洗后拆分的效果"
   ]
  },
  {
   "cell_type": "code",
   "execution_count": 19,
   "metadata": {},
   "outputs": [
    {
     "name": "stdout",
     "output_type": "stream",
     "text": [
      "人物：  {'白宫', '熊颖琪', '特朗普', '林肯', '普萨基', '戴晓峥', '安全措施', '布'}\n",
      "地点：  {'美', '中国', '台湾', '德国', '法', '华盛顿', '美国白宫', '京', '美国', '中美'}\n"
     ]
    }
   ],
   "source": [
    "person_list = {word for word, flag in words if flag == 'nr'}\n",
    "place_list = {word for word, flag in words if flag == 'ns'}\n",
    "print('人物： ',person_list)\n",
    "print('地点： ',place_list)"
   ]
  },
  {
   "cell_type": "code",
   "execution_count": 20,
   "metadata": {},
   "outputs": [],
   "source": [
    "def remove_stop_words(text):\n",
    "    stop_words = ['将','再','其中','这','要','百度'] #因为是百度新闻所以去掉百度这个词\n",
    "    for stop_word in stop_words:\n",
    "        text = text.replace(stop_word,'')\n",
    "    return text"
   ]
  },
  {
   "cell_type": "code",
   "execution_count": 21,
   "metadata": {},
   "outputs": [],
   "source": [
    "from wordcloud import WordCloud"
   ]
  },
  {
   "cell_type": "code",
   "execution_count": 22,
   "metadata": {},
   "outputs": [],
   "source": [
    "def create_word_cloud(f):\n",
    "    f = remove_stop_words(f) #去掉停用词\n",
    "    seg_list = jieba.lcut(f) #对文本进行拆分\n",
    "    cut_text = ' '.join(seg_list)\n",
    "    wc = WordCloud(\n",
    "        max_words=100,\n",
    "        width=2000,\n",
    "        height=1200,\n",
    "        font_path = './msyh.ttf'\n",
    "    )\n",
    "    wordcloud = wc.generate(cut_text)\n",
    "    wordcloud.to_file(\"wordcloud.jpg\")\n"
   ]
  },
  {
   "cell_type": "code",
   "execution_count": 23,
   "metadata": {},
   "outputs": [],
   "source": [
    "create_word_cloud(text)"
   ]
  },
  {
   "cell_type": "markdown",
   "metadata": {},
   "source": [
    "### 查看文章的关键字"
   ]
  },
  {
   "cell_type": "code",
   "execution_count": 24,
   "metadata": {},
   "outputs": [
    {
     "name": "stdout",
     "output_type": "stream",
     "text": [
      "关键词：\n",
      "美国 0.019871863321075205\n",
      "国家 0.018821547917700233\n",
      "政府 0.015105921164505955\n",
      "中国 0.013605581015980103\n",
      "特朗普 0.013530299557541509\n",
      "帐号 0.011613421509568643\n",
      "评估 0.011225083574821312\n",
      "意见反馈 0.010614590956229384\n",
      "国务卿 0.009314047850239933\n",
      "时间 0.009242793147723666\n",
      "疫情 0.009175874248934226\n",
      "经贸 0.009112394190249003\n",
      "白宫 0.008754024740398242\n",
      "措施 0.008429384120217532\n",
      "文章 0.008382317704159942\n",
      "报道 0.008011177576353756\n",
      "协议 0.008001731028636957\n",
      "技术 0.007835982230591782\n",
      "地下室 0.007736632506394332\n",
      "对华 0.00762240125791659\n",
      "摘要：\n",
      "1 0.14629882760173027 报道称，针对关于中美第一阶段经贸协议是否还有效的提问，美国白宫新闻秘书珍·普萨基当地时间29日在白宫例行记者会上说：“前任政府出台的所有关系国家安全的措施都重新评估，不想当然地认为会继续推进”\n",
      "0 0.1457831609473641 外媒：特朗普签的中美经贸协议，拜登可能改主意了首页登录个人中心帐号设置意见反馈退出外媒：特朗普签的中美经贸协议，拜登可能改主意了青瞳视角发布时间：北京青年报北青网官方帐号据路透社华盛顿消息，当地时间29日，美国拜登政府重新评估前总统特朗普时期的国家安全措施，包括中美第一阶段经贸协议\n",
      "3 0.14035862688420736 报道援引美国政府消息人士的话称，拜登政府在评估期间会暂停实施美国对亿美元中国商品加征关税的措施，直到全面评估完成、美国找出与其他国家联合对华的最佳办法后，决定做出哪些改变\n"
     ]
    }
   ],
   "source": [
    "from textrank4zh import TextRank4Keyword, TextRank4Sentence\n",
    "\n",
    "text = remove_stop_words(text)\n",
    "\n",
    "# 输出关键词，设置文本小写，窗口为2\n",
    "tr4w = TextRank4Keyword()\n",
    "tr4w.analyze(text=text, lower=True, window=3)\n",
    "print('关键词：')\n",
    "for item in tr4w.get_keywords(20, word_min_len=2):\n",
    "    print(item.word, item.weight)\n",
    "\n",
    "\n",
    "# 输出重要的句子\n",
    "tr4s = TextRank4Sentence()\n",
    "tr4s.analyze(text=text, lower=True, source = 'all_filters')\n",
    "print('摘要：')\n",
    "# 重要性较高的三个句子\n",
    "for item in tr4s.get_key_sentences(num=3):\n",
    "\t# index是语句在文本中位置，weight表示权重\n",
    "    print(item.index, item.weight, item.sentence)\n"
   ]
  },
  {
   "cell_type": "code",
   "execution_count": null,
   "metadata": {},
   "outputs": [],
   "source": []
  }
 ],
 "metadata": {
  "kernelspec": {
   "display_name": "Python 3",
   "language": "python",
   "name": "python3"
  },
  "language_info": {
   "codemirror_mode": {
    "name": "ipython",
    "version": 3
   },
   "file_extension": ".py",
   "mimetype": "text/x-python",
   "name": "python",
   "nbconvert_exporter": "python",
   "pygments_lexer": "ipython3",
   "version": "3.8.3"
  }
 },
 "nbformat": 4,
 "nbformat_minor": 4
}
